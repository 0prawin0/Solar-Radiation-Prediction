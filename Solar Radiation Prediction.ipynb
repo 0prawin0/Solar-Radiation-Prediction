{
 "cells": [
  {
   "cell_type": "markdown",
   "id": "c578e245",
   "metadata": {
    "ExecuteTime": {
     "end_time": "2023-09-16T07:29:45.553562Z",
     "start_time": "2023-09-16T07:29:45.538604Z"
    }
   },
   "source": [
    "# Solar Radiation Prediction Dataset"
   ]
  },
  {
   "cell_type": "code",
   "execution_count": 710,
   "id": "a779debe",
   "metadata": {
    "ExecuteTime": {
     "end_time": "2023-09-18T12:02:29.894168Z",
     "start_time": "2023-09-18T12:02:29.756537Z"
    }
   },
   "outputs": [
    {
     "data": {
      "text/html": [
       "<div>\n",
       "<style scoped>\n",
       "    .dataframe tbody tr th:only-of-type {\n",
       "        vertical-align: middle;\n",
       "    }\n",
       "\n",
       "    .dataframe tbody tr th {\n",
       "        vertical-align: top;\n",
       "    }\n",
       "\n",
       "    .dataframe thead th {\n",
       "        text-align: right;\n",
       "    }\n",
       "</style>\n",
       "<table border=\"1\" class=\"dataframe\">\n",
       "  <thead>\n",
       "    <tr style=\"text-align: right;\">\n",
       "      <th></th>\n",
       "      <th>Id</th>\n",
       "      <th>UNIXTime</th>\n",
       "      <th>Data</th>\n",
       "      <th>Time</th>\n",
       "      <th>Temperature</th>\n",
       "      <th>Pressure</th>\n",
       "      <th>Humidity</th>\n",
       "      <th>WindDirection(Degrees)</th>\n",
       "      <th>Speed</th>\n",
       "      <th>TimeSunRise</th>\n",
       "      <th>TimeSunSet</th>\n",
       "      <th>Radiation</th>\n",
       "    </tr>\n",
       "  </thead>\n",
       "  <tbody>\n",
       "    <tr>\n",
       "      <th>0</th>\n",
       "      <td>4152</td>\n",
       "      <td>1473879005</td>\n",
       "      <td>9/14/2016 12:00:00 AM</td>\n",
       "      <td>08:50:05</td>\n",
       "      <td>57</td>\n",
       "      <td>30.45</td>\n",
       "      <td>68</td>\n",
       "      <td>26.70</td>\n",
       "      <td>4.50</td>\n",
       "      <td>06:10:00</td>\n",
       "      <td>18:26:00</td>\n",
       "      <td>680.04</td>\n",
       "    </tr>\n",
       "    <tr>\n",
       "      <th>1</th>\n",
       "      <td>13047</td>\n",
       "      <td>1476293121</td>\n",
       "      <td>10/12/2016 12:00:00 AM</td>\n",
       "      <td>07:25:21</td>\n",
       "      <td>50</td>\n",
       "      <td>30.47</td>\n",
       "      <td>96</td>\n",
       "      <td>144.96</td>\n",
       "      <td>10.12</td>\n",
       "      <td>06:16:00</td>\n",
       "      <td>18:02:00</td>\n",
       "      <td>277.37</td>\n",
       "    </tr>\n",
       "    <tr>\n",
       "      <th>2</th>\n",
       "      <td>7420</td>\n",
       "      <td>1477993220</td>\n",
       "      <td>10/31/2016 12:00:00 AM</td>\n",
       "      <td>23:40:20</td>\n",
       "      <td>47</td>\n",
       "      <td>30.48</td>\n",
       "      <td>56</td>\n",
       "      <td>119.52</td>\n",
       "      <td>3.37</td>\n",
       "      <td>06:23:00</td>\n",
       "      <td>17:49:00</td>\n",
       "      <td>1.29</td>\n",
       "    </tr>\n",
       "    <tr>\n",
       "      <th>3</th>\n",
       "      <td>6508</td>\n",
       "      <td>1473013505</td>\n",
       "      <td>9/4/2016 12:00:00 AM</td>\n",
       "      <td>08:25:05</td>\n",
       "      <td>57</td>\n",
       "      <td>30.47</td>\n",
       "      <td>93</td>\n",
       "      <td>38.61</td>\n",
       "      <td>2.25</td>\n",
       "      <td>06:08:00</td>\n",
       "      <td>18:35:00</td>\n",
       "      <td>544.75</td>\n",
       "    </tr>\n",
       "    <tr>\n",
       "      <th>4</th>\n",
       "      <td>29110</td>\n",
       "      <td>1481885434</td>\n",
       "      <td>12/16/2016 12:00:00 AM</td>\n",
       "      <td>00:50:34</td>\n",
       "      <td>41</td>\n",
       "      <td>30.23</td>\n",
       "      <td>103</td>\n",
       "      <td>177.55</td>\n",
       "      <td>2.25</td>\n",
       "      <td>06:50:00</td>\n",
       "      <td>17:46:00</td>\n",
       "      <td>1.22</td>\n",
       "    </tr>\n",
       "  </tbody>\n",
       "</table>\n",
       "</div>"
      ],
      "text/plain": [
       "      Id    UNIXTime                    Data      Time  Temperature  Pressure  \\\n",
       "0   4152  1473879005   9/14/2016 12:00:00 AM  08:50:05           57     30.45   \n",
       "1  13047  1476293121  10/12/2016 12:00:00 AM  07:25:21           50     30.47   \n",
       "2   7420  1477993220  10/31/2016 12:00:00 AM  23:40:20           47     30.48   \n",
       "3   6508  1473013505    9/4/2016 12:00:00 AM  08:25:05           57     30.47   \n",
       "4  29110  1481885434  12/16/2016 12:00:00 AM  00:50:34           41     30.23   \n",
       "\n",
       "   Humidity  WindDirection(Degrees)  Speed TimeSunRise TimeSunSet  Radiation  \n",
       "0        68                   26.70   4.50    06:10:00   18:26:00     680.04  \n",
       "1        96                  144.96  10.12    06:16:00   18:02:00     277.37  \n",
       "2        56                  119.52   3.37    06:23:00   17:49:00       1.29  \n",
       "3        93                   38.61   2.25    06:08:00   18:35:00     544.75  \n",
       "4       103                  177.55   2.25    06:50:00   17:46:00       1.22  "
      ]
     },
     "execution_count": 710,
     "metadata": {},
     "output_type": "execute_result"
    }
   ],
   "source": [
    "Solar_orig=pd.read_csv(r'C:\\Users\\Prawin\\Desktop\\Praxis assessment\\IML\\Assignment-1\\solar_train.csv')\n",
    "solar = Solar_orig.copy()\n",
    "solar.head()"
   ]
  },
  {
   "cell_type": "code",
   "execution_count": 711,
   "id": "cae825d0",
   "metadata": {
    "ExecuteTime": {
     "end_time": "2023-09-18T12:02:29.924088Z",
     "start_time": "2023-09-18T12:02:29.898158Z"
    }
   },
   "outputs": [],
   "source": [
    "solar.drop(columns=['Id','UNIXTime'],inplace=True)\n",
    "\n",
    "# Since we have time and date, we donot need UNIX time"
   ]
  },
  {
   "cell_type": "code",
   "execution_count": 712,
   "id": "6a1ac430",
   "metadata": {
    "ExecuteTime": {
     "end_time": "2023-09-18T12:02:29.970964Z",
     "start_time": "2023-09-18T12:02:29.927080Z"
    }
   },
   "outputs": [
    {
     "data": {
      "text/html": [
       "<div>\n",
       "<style scoped>\n",
       "    .dataframe tbody tr th:only-of-type {\n",
       "        vertical-align: middle;\n",
       "    }\n",
       "\n",
       "    .dataframe tbody tr th {\n",
       "        vertical-align: top;\n",
       "    }\n",
       "\n",
       "    .dataframe thead th {\n",
       "        text-align: right;\n",
       "    }\n",
       "</style>\n",
       "<table border=\"1\" class=\"dataframe\">\n",
       "  <thead>\n",
       "    <tr style=\"text-align: right;\">\n",
       "      <th></th>\n",
       "      <th>Data</th>\n",
       "      <th>Time</th>\n",
       "      <th>Temperature</th>\n",
       "      <th>Pressure</th>\n",
       "      <th>Humidity</th>\n",
       "      <th>WindDirection(Degrees)</th>\n",
       "      <th>Speed</th>\n",
       "      <th>TimeSunRise</th>\n",
       "      <th>TimeSunSet</th>\n",
       "      <th>Radiation</th>\n",
       "    </tr>\n",
       "  </thead>\n",
       "  <tbody>\n",
       "    <tr>\n",
       "      <th>0</th>\n",
       "      <td>9/14/2016 12:00:00 AM</td>\n",
       "      <td>08:50:05</td>\n",
       "      <td>57</td>\n",
       "      <td>30.45</td>\n",
       "      <td>68</td>\n",
       "      <td>26.70</td>\n",
       "      <td>4.50</td>\n",
       "      <td>06:10:00</td>\n",
       "      <td>18:26:00</td>\n",
       "      <td>680.04</td>\n",
       "    </tr>\n",
       "    <tr>\n",
       "      <th>1</th>\n",
       "      <td>10/12/2016 12:00:00 AM</td>\n",
       "      <td>07:25:21</td>\n",
       "      <td>50</td>\n",
       "      <td>30.47</td>\n",
       "      <td>96</td>\n",
       "      <td>144.96</td>\n",
       "      <td>10.12</td>\n",
       "      <td>06:16:00</td>\n",
       "      <td>18:02:00</td>\n",
       "      <td>277.37</td>\n",
       "    </tr>\n",
       "    <tr>\n",
       "      <th>2</th>\n",
       "      <td>10/31/2016 12:00:00 AM</td>\n",
       "      <td>23:40:20</td>\n",
       "      <td>47</td>\n",
       "      <td>30.48</td>\n",
       "      <td>56</td>\n",
       "      <td>119.52</td>\n",
       "      <td>3.37</td>\n",
       "      <td>06:23:00</td>\n",
       "      <td>17:49:00</td>\n",
       "      <td>1.29</td>\n",
       "    </tr>\n",
       "    <tr>\n",
       "      <th>3</th>\n",
       "      <td>9/4/2016 12:00:00 AM</td>\n",
       "      <td>08:25:05</td>\n",
       "      <td>57</td>\n",
       "      <td>30.47</td>\n",
       "      <td>93</td>\n",
       "      <td>38.61</td>\n",
       "      <td>2.25</td>\n",
       "      <td>06:08:00</td>\n",
       "      <td>18:35:00</td>\n",
       "      <td>544.75</td>\n",
       "    </tr>\n",
       "    <tr>\n",
       "      <th>4</th>\n",
       "      <td>12/16/2016 12:00:00 AM</td>\n",
       "      <td>00:50:34</td>\n",
       "      <td>41</td>\n",
       "      <td>30.23</td>\n",
       "      <td>103</td>\n",
       "      <td>177.55</td>\n",
       "      <td>2.25</td>\n",
       "      <td>06:50:00</td>\n",
       "      <td>17:46:00</td>\n",
       "      <td>1.22</td>\n",
       "    </tr>\n",
       "  </tbody>\n",
       "</table>\n",
       "</div>"
      ],
      "text/plain": [
       "                     Data      Time  Temperature  Pressure  Humidity  \\\n",
       "0   9/14/2016 12:00:00 AM  08:50:05           57     30.45        68   \n",
       "1  10/12/2016 12:00:00 AM  07:25:21           50     30.47        96   \n",
       "2  10/31/2016 12:00:00 AM  23:40:20           47     30.48        56   \n",
       "3    9/4/2016 12:00:00 AM  08:25:05           57     30.47        93   \n",
       "4  12/16/2016 12:00:00 AM  00:50:34           41     30.23       103   \n",
       "\n",
       "   WindDirection(Degrees)  Speed TimeSunRise TimeSunSet  Radiation  \n",
       "0                   26.70   4.50    06:10:00   18:26:00     680.04  \n",
       "1                  144.96  10.12    06:16:00   18:02:00     277.37  \n",
       "2                  119.52   3.37    06:23:00   17:49:00       1.29  \n",
       "3                   38.61   2.25    06:08:00   18:35:00     544.75  \n",
       "4                  177.55   2.25    06:50:00   17:46:00       1.22  "
      ]
     },
     "execution_count": 712,
     "metadata": {},
     "output_type": "execute_result"
    }
   ],
   "source": [
    "solar.head()"
   ]
  },
  {
   "cell_type": "code",
   "execution_count": 713,
   "id": "17096844",
   "metadata": {
    "ExecuteTime": {
     "end_time": "2023-09-18T12:02:30.017837Z",
     "start_time": "2023-09-18T12:02:29.974953Z"
    }
   },
   "outputs": [
    {
     "name": "stdout",
     "output_type": "stream",
     "text": [
      "<class 'pandas.core.frame.DataFrame'>\n",
      "RangeIndex: 26148 entries, 0 to 26147\n",
      "Data columns (total 10 columns):\n",
      " #   Column                  Non-Null Count  Dtype  \n",
      "---  ------                  --------------  -----  \n",
      " 0   Data                    26148 non-null  object \n",
      " 1   Time                    26148 non-null  object \n",
      " 2   Temperature             26148 non-null  int64  \n",
      " 3   Pressure                26148 non-null  float64\n",
      " 4   Humidity                26148 non-null  int64  \n",
      " 5   WindDirection(Degrees)  26148 non-null  float64\n",
      " 6   Speed                   26148 non-null  float64\n",
      " 7   TimeSunRise             26148 non-null  object \n",
      " 8   TimeSunSet              26148 non-null  object \n",
      " 9   Radiation               26148 non-null  float64\n",
      "dtypes: float64(4), int64(2), object(4)\n",
      "memory usage: 2.0+ MB\n"
     ]
    }
   ],
   "source": [
    "solar.info()\n",
    "\n",
    "# As observed there are no missing values"
   ]
  },
  {
   "cell_type": "code",
   "execution_count": 714,
   "id": "0ffdf651",
   "metadata": {
    "ExecuteTime": {
     "end_time": "2023-09-18T12:02:30.095635Z",
     "start_time": "2023-09-18T12:02:30.022825Z"
    }
   },
   "outputs": [
    {
     "data": {
      "text/html": [
       "<div>\n",
       "<style scoped>\n",
       "    .dataframe tbody tr th:only-of-type {\n",
       "        vertical-align: middle;\n",
       "    }\n",
       "\n",
       "    .dataframe tbody tr th {\n",
       "        vertical-align: top;\n",
       "    }\n",
       "\n",
       "    .dataframe thead th {\n",
       "        text-align: right;\n",
       "    }\n",
       "</style>\n",
       "<table border=\"1\" class=\"dataframe\">\n",
       "  <thead>\n",
       "    <tr style=\"text-align: right;\">\n",
       "      <th></th>\n",
       "      <th>Temperature</th>\n",
       "      <th>Pressure</th>\n",
       "      <th>Humidity</th>\n",
       "      <th>WindDirection(Degrees)</th>\n",
       "      <th>Speed</th>\n",
       "      <th>Radiation</th>\n",
       "    </tr>\n",
       "  </thead>\n",
       "  <tbody>\n",
       "    <tr>\n",
       "      <th>count</th>\n",
       "      <td>26148.000000</td>\n",
       "      <td>26148.000000</td>\n",
       "      <td>26148.000000</td>\n",
       "      <td>26148.000000</td>\n",
       "      <td>26148.000000</td>\n",
       "      <td>26148.000000</td>\n",
       "    </tr>\n",
       "    <tr>\n",
       "      <th>mean</th>\n",
       "      <td>51.104865</td>\n",
       "      <td>30.422835</td>\n",
       "      <td>75.005239</td>\n",
       "      <td>143.259970</td>\n",
       "      <td>6.248521</td>\n",
       "      <td>208.044780</td>\n",
       "    </tr>\n",
       "    <tr>\n",
       "      <th>std</th>\n",
       "      <td>6.213912</td>\n",
       "      <td>0.054724</td>\n",
       "      <td>25.993102</td>\n",
       "      <td>82.988177</td>\n",
       "      <td>3.484166</td>\n",
       "      <td>316.090247</td>\n",
       "    </tr>\n",
       "    <tr>\n",
       "      <th>min</th>\n",
       "      <td>34.000000</td>\n",
       "      <td>30.190000</td>\n",
       "      <td>11.000000</td>\n",
       "      <td>0.090000</td>\n",
       "      <td>0.000000</td>\n",
       "      <td>1.130000</td>\n",
       "    </tr>\n",
       "    <tr>\n",
       "      <th>25%</th>\n",
       "      <td>46.000000</td>\n",
       "      <td>30.400000</td>\n",
       "      <td>56.000000</td>\n",
       "      <td>81.977500</td>\n",
       "      <td>3.370000</td>\n",
       "      <td>1.230000</td>\n",
       "    </tr>\n",
       "    <tr>\n",
       "      <th>50%</th>\n",
       "      <td>50.000000</td>\n",
       "      <td>30.430000</td>\n",
       "      <td>85.000000</td>\n",
       "      <td>147.645000</td>\n",
       "      <td>5.620000</td>\n",
       "      <td>2.710000</td>\n",
       "    </tr>\n",
       "    <tr>\n",
       "      <th>75%</th>\n",
       "      <td>55.000000</td>\n",
       "      <td>30.460000</td>\n",
       "      <td>97.000000</td>\n",
       "      <td>179.220000</td>\n",
       "      <td>7.870000</td>\n",
       "      <td>358.945000</td>\n",
       "    </tr>\n",
       "    <tr>\n",
       "      <th>max</th>\n",
       "      <td>71.000000</td>\n",
       "      <td>30.560000</td>\n",
       "      <td>103.000000</td>\n",
       "      <td>359.950000</td>\n",
       "      <td>39.370000</td>\n",
       "      <td>1601.260000</td>\n",
       "    </tr>\n",
       "  </tbody>\n",
       "</table>\n",
       "</div>"
      ],
      "text/plain": [
       "        Temperature      Pressure      Humidity  WindDirection(Degrees)  \\\n",
       "count  26148.000000  26148.000000  26148.000000            26148.000000   \n",
       "mean      51.104865     30.422835     75.005239              143.259970   \n",
       "std        6.213912      0.054724     25.993102               82.988177   \n",
       "min       34.000000     30.190000     11.000000                0.090000   \n",
       "25%       46.000000     30.400000     56.000000               81.977500   \n",
       "50%       50.000000     30.430000     85.000000              147.645000   \n",
       "75%       55.000000     30.460000     97.000000              179.220000   \n",
       "max       71.000000     30.560000    103.000000              359.950000   \n",
       "\n",
       "              Speed     Radiation  \n",
       "count  26148.000000  26148.000000  \n",
       "mean       6.248521    208.044780  \n",
       "std        3.484166    316.090247  \n",
       "min        0.000000      1.130000  \n",
       "25%        3.370000      1.230000  \n",
       "50%        5.620000      2.710000  \n",
       "75%        7.870000    358.945000  \n",
       "max       39.370000   1601.260000  "
      ]
     },
     "execution_count": 714,
     "metadata": {},
     "output_type": "execute_result"
    }
   ],
   "source": [
    "solar.describe()\n",
    "\n",
    "#It looks like there might be outliers in WindDirection(Degrees), Speed and Radiation"
   ]
  },
  {
   "cell_type": "code",
   "execution_count": 715,
   "id": "1356020f",
   "metadata": {
    "ExecuteTime": {
     "end_time": "2023-09-18T12:02:30.346164Z",
     "start_time": "2023-09-18T12:02:30.099619Z"
    }
   },
   "outputs": [
    {
     "data": {
      "image/png": "[encoded data removed]",
      "text/plain": [
       "<Figure size 1440x360 with 1 Axes>"
      ]
     },
     "metadata": {
      "needs_background": "light"
     },
     "output_type": "display_data"
    }
   ],
   "source": [
    "plt.figure(figsize=(20,5))\n",
    "sns.boxplot(x = solar['Temperature'])\n",
    "plt.title('Box Plot of Temperature')\n",
    "plt.xlabel('Tempurature')\n",
    "plt.show()"
   ]
  },
  {
   "cell_type": "code",
   "execution_count": 716,
   "id": "f08d6c6f",
   "metadata": {
    "ExecuteTime": {
     "end_time": "2023-09-18T12:02:30.564572Z",
     "start_time": "2023-09-18T12:02:30.350146Z"
    }
   },
   "outputs": [
    {
     "data": {
      "image/png": "[encoded data removed]",
      "text/plain": [
       "<Figure size 1440x360 with 1 Axes>"
      ]
     },
     "metadata": {
      "needs_background": "light"
     },
     "output_type": "display_data"
    }
   ],
   "source": [
    "plt.figure(figsize=(20,5))\n",
    "sns.boxplot(x = solar['Pressure'])\n",
    "plt.title('Box Plot of Pressure')\n",
    "plt.xlabel('Pressure')\n",
    "plt.show()"
   ]
  },
  {
   "cell_type": "code",
   "execution_count": 717,
   "id": "0f03c4ca",
   "metadata": {
    "ExecuteTime": {
     "end_time": "2023-09-18T12:02:30.754064Z",
     "start_time": "2023-09-18T12:02:30.568563Z"
    }
   },
   "outputs": [
    {
     "data": {
      "image/png": "[encoded data removed]",
      "text/plain": [
       "<Figure size 1440x360 with 1 Axes>"
      ]
     },
     "metadata": {
      "needs_background": "light"
     },
     "output_type": "display_data"
    }
   ],
   "source": [
    "plt.figure(figsize=(20,5))\n",
    "sns.boxplot(x = solar['Humidity'])\n",
    "plt.title('Box Plot of Humidity')\n",
    "plt.xlabel('Humidity')\n",
    "plt.show()"
   ]
  },
  {
   "cell_type": "code",
   "execution_count": 718,
   "id": "23c3e802",
   "metadata": {
    "ExecuteTime": {
     "end_time": "2023-09-18T12:02:31.005500Z",
     "start_time": "2023-09-18T12:02:30.757057Z"
    }
   },
   "outputs": [
    {
     "data": {
      "image/png": "[encoded data removed]",
      "text/plain": [
       "<Figure size 1440x360 with 1 Axes>"
      ]
     },
     "metadata": {
      "needs_background": "light"
     },
     "output_type": "display_data"
    }
   ],
   "source": [
    "plt.figure(figsize=(20,5))\n",
    "sns.boxplot(x = solar['WindDirection(Degrees)'])\n",
    "plt.title('Box Plot of WindDirection(Degrees)')\n",
    "plt.xlabel('WindDirection(Degrees)')\n",
    "plt.show()"
   ]
  },
  {
   "cell_type": "code",
   "execution_count": 719,
   "id": "d6571c77",
   "metadata": {
    "ExecuteTime": {
     "end_time": "2023-09-18T12:02:31.318190Z",
     "start_time": "2023-09-18T12:02:31.007479Z"
    }
   },
   "outputs": [
    {
     "data": {
      "image/png": "[encoded data removed]",
      "text/plain": [
       "<Figure size 1440x360 with 1 Axes>"
      ]
     },
     "metadata": {
      "needs_background": "light"
     },
     "output_type": "display_data"
    }
   ],
   "source": [
    "plt.figure(figsize=(20,5))\n",
    "sns.boxplot(x = solar['Speed'])\n",
    "plt.title('Box Plot of Speed')\n",
    "plt.xlabel('Speed')\n",
    "plt.show()"
   ]
  },
  {
   "cell_type": "code",
   "execution_count": 720,
   "id": "45565558",
   "metadata": {
    "ExecuteTime": {
     "end_time": "2023-09-18T12:02:31.584019Z",
     "start_time": "2023-09-18T12:02:31.322180Z"
    }
   },
   "outputs": [
    {
     "data": {
      "image/png": "[encoded data removed]",
      "text/plain": [
       "<Figure size 1440x360 with 1 Axes>"
      ]
     },
     "metadata": {
      "needs_background": "light"
     },
     "output_type": "display_data"
    }
   ],
   "source": [
    "plt.figure(figsize=(20,5))\n",
    "sns.boxplot(x = solar['Radiation'])\n",
    "plt.title('Box Plot of Radiation')\n",
    "plt.xlabel('Radiation')\n",
    "plt.show()"
   ]
  },
  {
   "cell_type": "code",
   "execution_count": 721,
   "id": "709f59fd",
   "metadata": {
    "ExecuteTime": {
     "end_time": "2023-09-18T12:02:31.598979Z",
     "start_time": "2023-09-18T12:02:31.590003Z"
    }
   },
   "outputs": [],
   "source": [
    "# As observed from above box plots, there are outliers in columns Radiation, Speed, WindDirection,Pressure and Temperature"
   ]
  },
  {
   "cell_type": "code",
   "execution_count": 722,
   "id": "a07877fe",
   "metadata": {
    "ExecuteTime": {
     "end_time": "2023-09-18T12:02:31.629897Z",
     "start_time": "2023-09-18T12:02:31.602968Z"
    }
   },
   "outputs": [
    {
     "name": "stdout",
     "output_type": "stream",
     "text": [
      "lower bounds are:\n",
      " Radiation                -535.34250\n",
      "Speed                      -3.38000\n",
      "WindDirection(Degrees)    -63.88625\n",
      "Pressure                   30.31000\n",
      "Temperature                32.50000\n",
      "dtype: float64\n",
      "----------------------------------------------------------------------\n",
      "upper bounds are:\n",
      " Radiation                 895.51750\n",
      "Speed                      14.62000\n",
      "WindDirection(Degrees)    325.08375\n",
      "Pressure                   30.55000\n",
      "Temperature                68.50000\n",
      "dtype: float64\n"
     ]
    }
   ],
   "source": [
    "# Getting outlier limits for above mentioned columns\n",
    "\n",
    "num_cols_solar = solar[['Radiation','Speed','WindDirection(Degrees)','Pressure','Temperature']]\n",
    "Q1 = num_cols_solar.quantile(0.25)\n",
    "Q3 = num_cols_solar.quantile(0.75)\n",
    "IQR = Q3 - Q1\n",
    "lower_bound = Q1 - 1.5 * IQR\n",
    "upper_bound = Q3 + 1.5 * IQR\n",
    "\n",
    "print('lower bounds are:\\n',lower_bound)\n",
    "print('-'*70)\n",
    "print('upper bounds are:\\n',upper_bound)"
   ]
  },
  {
   "cell_type": "code",
   "execution_count": 723,
   "id": "b57c5e80",
   "metadata": {
    "ExecuteTime": {
     "end_time": "2023-09-18T12:02:31.691270Z",
     "start_time": "2023-09-18T12:02:31.631891Z"
    }
   },
   "outputs": [
    {
     "name": "stdout",
     "output_type": "stream",
     "text": [
      "column is: Radiation\n",
      "min side outliers count is:\n",
      "0\n",
      "max side outliers count is:\n",
      "1426\n",
      "----------------------------------------\n",
      "column is: Speed\n",
      "min side outliers count is:\n",
      "0\n",
      "max side outliers count is:\n",
      "382\n",
      "----------------------------------------\n",
      "column is: WindDirection(Degrees)\n",
      "min side outliers count is:\n",
      "0\n",
      "max side outliers count is:\n",
      "1259\n",
      "----------------------------------------\n",
      "column is: Pressure\n",
      "min side outliers count is:\n",
      "1310\n",
      "max side outliers count is:\n",
      "26\n",
      "----------------------------------------\n",
      "column is: Temperature\n",
      "min side outliers count is:\n",
      "0\n",
      "max side outliers count is:\n",
      "76\n",
      "----------------------------------------\n"
     ]
    }
   ],
   "source": [
    "for x in num_cols_solar.columns:\n",
    "    print('column is:',x)\n",
    "    print('min side outliers count is:')\n",
    "    print(solar[solar[x] < lower_bound[x]][x].count())\n",
    "    print('max side outliers count is:')\n",
    "    print(solar[solar[x] > upper_bound[x]][x].count())\n",
    "    print('-'*40)"
   ]
  },
  {
   "cell_type": "code",
   "execution_count": 724,
   "id": "b524b975",
   "metadata": {
    "ExecuteTime": {
     "end_time": "2023-09-18T12:02:31.722185Z",
     "start_time": "2023-09-18T12:02:31.694262Z"
    }
   },
   "outputs": [],
   "source": [
    "for x in num_cols_solar.columns:\n",
    "    solar.loc[solar[x] > upper_bound[x],x] = upper_bound[x]\n",
    "\n",
    "solar.loc[solar['Pressure'] < lower_bound['Pressure'],'Pressure'] = lower_bound['Pressure']"
   ]
  },
  {
   "cell_type": "code",
   "execution_count": 725,
   "id": "1ca7e8a1",
   "metadata": {
    "ExecuteTime": {
     "end_time": "2023-09-18T12:02:31.753113Z",
     "start_time": "2023-09-18T12:02:31.724183Z"
    }
   },
   "outputs": [
    {
     "name": "stdout",
     "output_type": "stream",
     "text": [
      "lower bounds are:\n",
      " Radiation                -535.34250\n",
      "Speed                      -3.38000\n",
      "WindDirection(Degrees)    -63.88625\n",
      "Pressure                   30.31000\n",
      "Temperature                32.50000\n",
      "dtype: float64\n",
      "----------------------------------------------------------------------\n",
      "upper bounds are:\n",
      " Radiation                 895.51750\n",
      "Speed                      14.62000\n",
      "WindDirection(Degrees)    325.08375\n",
      "Pressure                   30.55000\n",
      "Temperature                68.50000\n",
      "dtype: float64\n"
     ]
    }
   ],
   "source": [
    "num_cols_solar = solar[['Radiation','Speed','WindDirection(Degrees)','Pressure','Temperature']]\n",
    "Q1 = num_cols_solar.quantile(0.25)\n",
    "Q3 = num_cols_solar.quantile(0.75)\n",
    "IQR = Q3 - Q1\n",
    "lower_bound = Q1 - 1.5 * IQR\n",
    "upper_bound = Q3 + 1.5 * IQR\n",
    "\n",
    "print('lower bounds are:\\n',lower_bound)\n",
    "print('-'*70)\n",
    "print('upper bounds are:\\n',upper_bound)"
   ]
  },
  {
   "cell_type": "code",
   "execution_count": 726,
   "id": "110e97ae",
   "metadata": {
    "ExecuteTime": {
     "end_time": "2023-09-18T12:02:31.815937Z",
     "start_time": "2023-09-18T12:02:31.758091Z"
    }
   },
   "outputs": [
    {
     "name": "stdout",
     "output_type": "stream",
     "text": [
      "column is: Radiation\n",
      "min side outliers count is:\n",
      "0\n",
      "max side outliers count is:\n",
      "0\n",
      "----------------------------------------\n",
      "column is: Speed\n",
      "min side outliers count is:\n",
      "0\n",
      "max side outliers count is:\n",
      "0\n",
      "----------------------------------------\n",
      "column is: WindDirection(Degrees)\n",
      "min side outliers count is:\n",
      "0\n",
      "max side outliers count is:\n",
      "0\n",
      "----------------------------------------\n",
      "column is: Pressure\n",
      "min side outliers count is:\n",
      "0\n",
      "max side outliers count is:\n",
      "0\n",
      "----------------------------------------\n",
      "column is: Temperature\n",
      "min side outliers count is:\n",
      "0\n",
      "max side outliers count is:\n",
      "0\n",
      "----------------------------------------\n"
     ]
    }
   ],
   "source": [
    "for x in num_cols_solar.columns:\n",
    "    print('column is:',x)\n",
    "    print('min side outliers count is:')\n",
    "    print(solar[solar[x] < lower_bound[x]][x].count())\n",
    "    print('max side outliers count is:')\n",
    "    print(solar[solar[x] > upper_bound[x]][x].count())\n",
    "    print('-'*40)"
   ]
  },
  {
   "cell_type": "code",
   "execution_count": 727,
   "id": "657d2a23",
   "metadata": {
    "ExecuteTime": {
     "end_time": "2023-09-18T12:02:31.861813Z",
     "start_time": "2023-09-18T12:02:31.819943Z"
    }
   },
   "outputs": [
    {
     "data": {
      "text/html": [
       "<div>\n",
       "<style scoped>\n",
       "    .dataframe tbody tr th:only-of-type {\n",
       "        vertical-align: middle;\n",
       "    }\n",
       "\n",
       "    .dataframe tbody tr th {\n",
       "        vertical-align: top;\n",
       "    }\n",
       "\n",
       "    .dataframe thead th {\n",
       "        text-align: right;\n",
       "    }\n",
       "</style>\n",
       "<table border=\"1\" class=\"dataframe\">\n",
       "  <thead>\n",
       "    <tr style=\"text-align: right;\">\n",
       "      <th></th>\n",
       "      <th>Data</th>\n",
       "      <th>Time</th>\n",
       "      <th>Temperature</th>\n",
       "      <th>Pressure</th>\n",
       "      <th>Humidity</th>\n",
       "      <th>WindDirection(Degrees)</th>\n",
       "      <th>Speed</th>\n",
       "      <th>TimeSunRise</th>\n",
       "      <th>TimeSunSet</th>\n",
       "      <th>Radiation</th>\n",
       "    </tr>\n",
       "  </thead>\n",
       "  <tbody>\n",
       "    <tr>\n",
       "      <th>0</th>\n",
       "      <td>9/14/2016 12:00:00 AM</td>\n",
       "      <td>08:50:05</td>\n",
       "      <td>57.0</td>\n",
       "      <td>30.45</td>\n",
       "      <td>68</td>\n",
       "      <td>26.70</td>\n",
       "      <td>4.50</td>\n",
       "      <td>06:10:00</td>\n",
       "      <td>18:26:00</td>\n",
       "      <td>680.04</td>\n",
       "    </tr>\n",
       "    <tr>\n",
       "      <th>1</th>\n",
       "      <td>10/12/2016 12:00:00 AM</td>\n",
       "      <td>07:25:21</td>\n",
       "      <td>50.0</td>\n",
       "      <td>30.47</td>\n",
       "      <td>96</td>\n",
       "      <td>144.96</td>\n",
       "      <td>10.12</td>\n",
       "      <td>06:16:00</td>\n",
       "      <td>18:02:00</td>\n",
       "      <td>277.37</td>\n",
       "    </tr>\n",
       "    <tr>\n",
       "      <th>2</th>\n",
       "      <td>10/31/2016 12:00:00 AM</td>\n",
       "      <td>23:40:20</td>\n",
       "      <td>47.0</td>\n",
       "      <td>30.48</td>\n",
       "      <td>56</td>\n",
       "      <td>119.52</td>\n",
       "      <td>3.37</td>\n",
       "      <td>06:23:00</td>\n",
       "      <td>17:49:00</td>\n",
       "      <td>1.29</td>\n",
       "    </tr>\n",
       "    <tr>\n",
       "      <th>3</th>\n",
       "      <td>9/4/2016 12:00:00 AM</td>\n",
       "      <td>08:25:05</td>\n",
       "      <td>57.0</td>\n",
       "      <td>30.47</td>\n",
       "      <td>93</td>\n",
       "      <td>38.61</td>\n",
       "      <td>2.25</td>\n",
       "      <td>06:08:00</td>\n",
       "      <td>18:35:00</td>\n",
       "      <td>544.75</td>\n",
       "    </tr>\n",
       "    <tr>\n",
       "      <th>4</th>\n",
       "      <td>12/16/2016 12:00:00 AM</td>\n",
       "      <td>00:50:34</td>\n",
       "      <td>41.0</td>\n",
       "      <td>30.31</td>\n",
       "      <td>103</td>\n",
       "      <td>177.55</td>\n",
       "      <td>2.25</td>\n",
       "      <td>06:50:00</td>\n",
       "      <td>17:46:00</td>\n",
       "      <td>1.22</td>\n",
       "    </tr>\n",
       "  </tbody>\n",
       "</table>\n",
       "</div>"
      ],
      "text/plain": [
       "                     Data      Time  Temperature  Pressure  Humidity  \\\n",
       "0   9/14/2016 12:00:00 AM  08:50:05         57.0     30.45        68   \n",
       "1  10/12/2016 12:00:00 AM  07:25:21         50.0     30.47        96   \n",
       "2  10/31/2016 12:00:00 AM  23:40:20         47.0     30.48        56   \n",
       "3    9/4/2016 12:00:00 AM  08:25:05         57.0     30.47        93   \n",
       "4  12/16/2016 12:00:00 AM  00:50:34         41.0     30.31       103   \n",
       "\n",
       "   WindDirection(Degrees)  Speed TimeSunRise TimeSunSet  Radiation  \n",
       "0                   26.70   4.50    06:10:00   18:26:00     680.04  \n",
       "1                  144.96  10.12    06:16:00   18:02:00     277.37  \n",
       "2                  119.52   3.37    06:23:00   17:49:00       1.29  \n",
       "3                   38.61   2.25    06:08:00   18:35:00     544.75  \n",
       "4                  177.55   2.25    06:50:00   17:46:00       1.22  "
      ]
     },
     "execution_count": 727,
     "metadata": {},
     "output_type": "execute_result"
    }
   ],
   "source": [
    "solar.head()"
   ]
  },
  {
   "cell_type": "code",
   "execution_count": 728,
   "id": "658d8f2f",
   "metadata": {
    "ExecuteTime": {
     "end_time": "2023-09-18T12:02:31.955019Z",
     "start_time": "2023-09-18T12:02:31.865802Z"
    }
   },
   "outputs": [],
   "source": [
    "solar[['Date','12','AM']] = solar['Data'].str.split(' ',expand=True)\n",
    "solar.drop(columns=['12','AM'],inplace=True)"
   ]
  },
  {
   "cell_type": "code",
   "execution_count": 729,
   "id": "750f8bab",
   "metadata": {
    "ExecuteTime": {
     "end_time": "2023-09-18T12:02:31.970807Z",
     "start_time": "2023-09-18T12:02:31.957843Z"
    }
   },
   "outputs": [],
   "source": [
    "solar.drop(columns=['Date'],inplace=True)"
   ]
  },
  {
   "cell_type": "code",
   "execution_count": 730,
   "id": "943ca16c",
   "metadata": {
    "ExecuteTime": {
     "end_time": "2023-09-18T12:02:32.002727Z",
     "start_time": "2023-09-18T12:02:31.972798Z"
    }
   },
   "outputs": [
    {
     "data": {
      "text/html": [
       "<div>\n",
       "<style scoped>\n",
       "    .dataframe tbody tr th:only-of-type {\n",
       "        vertical-align: middle;\n",
       "    }\n",
       "\n",
       "    .dataframe tbody tr th {\n",
       "        vertical-align: top;\n",
       "    }\n",
       "\n",
       "    .dataframe thead th {\n",
       "        text-align: right;\n",
       "    }\n",
       "</style>\n",
       "<table border=\"1\" class=\"dataframe\">\n",
       "  <thead>\n",
       "    <tr style=\"text-align: right;\">\n",
       "      <th></th>\n",
       "      <th>Data</th>\n",
       "      <th>Time</th>\n",
       "      <th>Temperature</th>\n",
       "      <th>Pressure</th>\n",
       "      <th>Humidity</th>\n",
       "      <th>WindDirection(Degrees)</th>\n",
       "      <th>Speed</th>\n",
       "      <th>TimeSunRise</th>\n",
       "      <th>TimeSunSet</th>\n",
       "      <th>Radiation</th>\n",
       "    </tr>\n",
       "  </thead>\n",
       "  <tbody>\n",
       "    <tr>\n",
       "      <th>0</th>\n",
       "      <td>9/14/2016 12:00:00 AM</td>\n",
       "      <td>08:50:05</td>\n",
       "      <td>57.0</td>\n",
       "      <td>30.45</td>\n",
       "      <td>68</td>\n",
       "      <td>26.70</td>\n",
       "      <td>4.50</td>\n",
       "      <td>06:10:00</td>\n",
       "      <td>18:26:00</td>\n",
       "      <td>680.04</td>\n",
       "    </tr>\n",
       "    <tr>\n",
       "      <th>1</th>\n",
       "      <td>10/12/2016 12:00:00 AM</td>\n",
       "      <td>07:25:21</td>\n",
       "      <td>50.0</td>\n",
       "      <td>30.47</td>\n",
       "      <td>96</td>\n",
       "      <td>144.96</td>\n",
       "      <td>10.12</td>\n",
       "      <td>06:16:00</td>\n",
       "      <td>18:02:00</td>\n",
       "      <td>277.37</td>\n",
       "    </tr>\n",
       "    <tr>\n",
       "      <th>2</th>\n",
       "      <td>10/31/2016 12:00:00 AM</td>\n",
       "      <td>23:40:20</td>\n",
       "      <td>47.0</td>\n",
       "      <td>30.48</td>\n",
       "      <td>56</td>\n",
       "      <td>119.52</td>\n",
       "      <td>3.37</td>\n",
       "      <td>06:23:00</td>\n",
       "      <td>17:49:00</td>\n",
       "      <td>1.29</td>\n",
       "    </tr>\n",
       "    <tr>\n",
       "      <th>3</th>\n",
       "      <td>9/4/2016 12:00:00 AM</td>\n",
       "      <td>08:25:05</td>\n",
       "      <td>57.0</td>\n",
       "      <td>30.47</td>\n",
       "      <td>93</td>\n",
       "      <td>38.61</td>\n",
       "      <td>2.25</td>\n",
       "      <td>06:08:00</td>\n",
       "      <td>18:35:00</td>\n",
       "      <td>544.75</td>\n",
       "    </tr>\n",
       "    <tr>\n",
       "      <th>4</th>\n",
       "      <td>12/16/2016 12:00:00 AM</td>\n",
       "      <td>00:50:34</td>\n",
       "      <td>41.0</td>\n",
       "      <td>30.31</td>\n",
       "      <td>103</td>\n",
       "      <td>177.55</td>\n",
       "      <td>2.25</td>\n",
       "      <td>06:50:00</td>\n",
       "      <td>17:46:00</td>\n",
       "      <td>1.22</td>\n",
       "    </tr>\n",
       "  </tbody>\n",
       "</table>\n",
       "</div>"
      ],
      "text/plain": [
       "                     Data      Time  Temperature  Pressure  Humidity  \\\n",
       "0   9/14/2016 12:00:00 AM  08:50:05         57.0     30.45        68   \n",
       "1  10/12/2016 12:00:00 AM  07:25:21         50.0     30.47        96   \n",
       "2  10/31/2016 12:00:00 AM  23:40:20         47.0     30.48        56   \n",
       "3    9/4/2016 12:00:00 AM  08:25:05         57.0     30.47        93   \n",
       "4  12/16/2016 12:00:00 AM  00:50:34         41.0     30.31       103   \n",
       "\n",
       "   WindDirection(Degrees)  Speed TimeSunRise TimeSunSet  Radiation  \n",
       "0                   26.70   4.50    06:10:00   18:26:00     680.04  \n",
       "1                  144.96  10.12    06:16:00   18:02:00     277.37  \n",
       "2                  119.52   3.37    06:23:00   17:49:00       1.29  \n",
       "3                   38.61   2.25    06:08:00   18:35:00     544.75  \n",
       "4                  177.55   2.25    06:50:00   17:46:00       1.22  "
      ]
     },
     "execution_count": 730,
     "metadata": {},
     "output_type": "execute_result"
    }
   ],
   "source": [
    "solar.head()"
   ]
  },
  {
   "cell_type": "code",
   "execution_count": 731,
   "id": "598dbec3",
   "metadata": {
    "ExecuteTime": {
     "end_time": "2023-09-18T12:02:32.033637Z",
     "start_time": "2023-09-18T12:02:32.007709Z"
    }
   },
   "outputs": [
    {
     "name": "stdout",
     "output_type": "stream",
     "text": [
      "<class 'pandas.core.frame.DataFrame'>\n",
      "RangeIndex: 26148 entries, 0 to 26147\n",
      "Data columns (total 10 columns):\n",
      " #   Column                  Non-Null Count  Dtype  \n",
      "---  ------                  --------------  -----  \n",
      " 0   Data                    26148 non-null  object \n",
      " 1   Time                    26148 non-null  object \n",
      " 2   Temperature             26148 non-null  float64\n",
      " 3   Pressure                26148 non-null  float64\n",
      " 4   Humidity                26148 non-null  int64  \n",
      " 5   WindDirection(Degrees)  26148 non-null  float64\n",
      " 6   Speed                   26148 non-null  float64\n",
      " 7   TimeSunRise             26148 non-null  object \n",
      " 8   TimeSunSet              26148 non-null  object \n",
      " 9   Radiation               26148 non-null  float64\n",
      "dtypes: float64(5), int64(1), object(4)\n",
      "memory usage: 2.0+ MB\n"
     ]
    }
   ],
   "source": [
    "solar.info()\n",
    "# Data type of column Data, Time has to be changed"
   ]
  },
  {
   "cell_type": "code",
   "execution_count": 732,
   "id": "e159b974",
   "metadata": {
    "ExecuteTime": {
     "end_time": "2023-09-18T12:02:32.081026Z",
     "start_time": "2023-09-18T12:02:32.037626Z"
    }
   },
   "outputs": [],
   "source": [
    "solar['Data'] = pd.to_datetime(solar['Data'])"
   ]
  },
  {
   "cell_type": "code",
   "execution_count": 733,
   "id": "8887948c",
   "metadata": {
    "ExecuteTime": {
     "end_time": "2023-09-18T12:02:32.299270Z",
     "start_time": "2023-09-18T12:02:32.085017Z"
    }
   },
   "outputs": [],
   "source": [
    "solar['Time'] = pd.to_datetime(solar['Time'], format='%H:%M:%S').dt.time\n",
    "solar['TimeSunRise'] = pd.to_datetime(solar['TimeSunRise'], format='%H:%M:%S').dt.time\n",
    "solar['TimeSunSet'] = pd.to_datetime(solar['TimeSunSet'], format='%H:%M:%S').dt.time"
   ]
  },
  {
   "cell_type": "code",
   "execution_count": 734,
   "id": "7b1dc8cb",
   "metadata": {
    "ExecuteTime": {
     "end_time": "2023-09-18T12:02:32.346146Z",
     "start_time": "2023-09-18T12:02:32.304265Z"
    }
   },
   "outputs": [
    {
     "name": "stdout",
     "output_type": "stream",
     "text": [
      "<class 'pandas.core.frame.DataFrame'>\n",
      "RangeIndex: 26148 entries, 0 to 26147\n",
      "Data columns (total 10 columns):\n",
      " #   Column                  Non-Null Count  Dtype         \n",
      "---  ------                  --------------  -----         \n",
      " 0   Data                    26148 non-null  datetime64[ns]\n",
      " 1   Time                    26148 non-null  object        \n",
      " 2   Temperature             26148 non-null  float64       \n",
      " 3   Pressure                26148 non-null  float64       \n",
      " 4   Humidity                26148 non-null  int64         \n",
      " 5   WindDirection(Degrees)  26148 non-null  float64       \n",
      " 6   Speed                   26148 non-null  float64       \n",
      " 7   TimeSunRise             26148 non-null  object        \n",
      " 8   TimeSunSet              26148 non-null  object        \n",
      " 9   Radiation               26148 non-null  float64       \n",
      "dtypes: datetime64[ns](1), float64(5), int64(1), object(3)\n",
      "memory usage: 2.0+ MB\n"
     ]
    }
   ],
   "source": [
    "solar.info()"
   ]
  },
  {
   "cell_type": "code",
   "execution_count": 735,
   "id": "08d3bdd8",
   "metadata": {
    "ExecuteTime": {
     "end_time": "2023-09-18T12:02:33.143002Z",
     "start_time": "2023-09-18T12:02:32.349137Z"
    }
   },
   "outputs": [
    {
     "data": {
      "image/png": "[encoded data removed]",
      "text/plain": [
       "<Figure size 432x288 with 2 Axes>"
      ]
     },
     "metadata": {
      "needs_background": "light"
     },
     "output_type": "display_data"
    }
   ],
   "source": [
    "solar_corr = sns.heatmap(solar.corr(),annot=True,cmap =\"YlGnBu\",linewidths = 0.1)\n",
    "\n",
    "# Correlation between any of the independent variables is not high."
   ]
  },
  {
   "cell_type": "markdown",
   "id": "c9dc468f",
   "metadata": {},
   "source": [
    "### EDA"
   ]
  },
  {
   "cell_type": "code",
   "execution_count": 736,
   "id": "c8ccb2b9",
   "metadata": {
    "ExecuteTime": {
     "end_time": "2023-09-18T12:02:33.582531Z",
     "start_time": "2023-09-18T12:02:33.145995Z"
    },
    "scrolled": true
   },
   "outputs": [
    {
     "data": {
      "image/png": "[encoded data removed]",
      "text/plain": [
       "<Figure size 1080x360 with 1 Axes>"
      ]
     },
     "metadata": {
      "needs_background": "light"
     },
     "output_type": "display_data"
    }
   ],
   "source": [
    "# Check which dates have the highest radiation\n",
    "\n",
    "plt.figure(figsize=(15,5))\n",
    "time_radiation = solar.groupby(by='Data')['Radiation'].mean()\n",
    "time_radiation.plot(kind = 'line')\n",
    "plt.xlabel('Dates')\n",
    "plt.ylabel('Radiation Average')\n",
    "plt.title('AVERAGE RADIATION')\n",
    "plt.show()"
   ]
  },
  {
   "cell_type": "code",
   "execution_count": 737,
   "id": "cd9a89d6",
   "metadata": {
    "ExecuteTime": {
     "end_time": "2023-09-18T12:02:33.864540Z",
     "start_time": "2023-09-18T12:02:33.588506Z"
    }
   },
   "outputs": [
    {
     "data": {
      "image/png": "[encoded data removed]",
      "text/plain": [
       "<Figure size 1080x360 with 1 Axes>"
      ]
     },
     "metadata": {
      "needs_background": "light"
     },
     "output_type": "display_data"
    }
   ],
   "source": [
    "# How is temperature varying with Radiation?\n",
    "\n",
    "plt.figure(figsize=(15,5))\n",
    "temp_radiation = solar.groupby(by='Temperature')['Radiation'].mean()\n",
    "temp_radiation.plot(kind = 'line')\n",
    "plt.xlabel('Temperature')\n",
    "plt.ylabel('Average Radiation')\n",
    "plt.title('AVERAGE RADIATION VS TEMPERATURE')\n",
    "plt.show()\n",
    "\n",
    "# As the temperature increases, the radiation value also increases"
   ]
  },
  {
   "cell_type": "code",
   "execution_count": 738,
   "id": "689e4c0a",
   "metadata": {
    "ExecuteTime": {
     "end_time": "2023-09-18T12:02:34.129354Z",
     "start_time": "2023-09-18T12:02:33.866538Z"
    }
   },
   "outputs": [
    {
     "data": {
      "image/png": "[encoded data removed]",
      "text/plain": [
       "<Figure size 1080x360 with 1 Axes>"
      ]
     },
     "metadata": {
      "needs_background": "light"
     },
     "output_type": "display_data"
    }
   ],
   "source": [
    "# How is humidity varying with Radiation?\n",
    "\n",
    "plt.figure(figsize=(15,5))\n",
    "pressure_radiation = solar.groupby(by='Humidity')['Radiation'].mean()\n",
    "pressure_radiation.plot(kind = 'line',color = '#eb3434')\n",
    "plt.xlabel('Humidity')\n",
    "plt.ylabel('Average Radiation')\n",
    "plt.title('AVERAGE RADIATION VS HUMIDITY')\n",
    "plt.show()\n",
    "\n",
    "# As the humidity increases, the radiation value decreases\n"
   ]
  },
  {
   "cell_type": "code",
   "execution_count": 739,
   "id": "182db658",
   "metadata": {
    "ExecuteTime": {
     "end_time": "2023-09-18T12:02:34.486206Z",
     "start_time": "2023-09-18T12:02:34.132347Z"
    }
   },
   "outputs": [
    {
     "data": {
      "image/png": "[encoded data removed]",
      "text/plain": [
       "<Figure size 720x720 with 1 Axes>"
      ]
     },
     "metadata": {
      "needs_background": "light"
     },
     "output_type": "display_data"
    }
   ],
   "source": [
    "# How does radiation vary from the time of measurement\n",
    "\n",
    "plt.figure(figsize=(10,10))\n",
    "radiation_sunrise = solar.groupby(by='Time')['Radiation'].mean()\n",
    "radiation_sunrise.plot(kind = 'line',color = '#dbeb34')\n",
    "plt.xlabel('Time of measurement')\n",
    "plt.ylabel('Average Radiation')\n",
    "plt.title('AVERAGE RADIATION VS TIME OF MEASUREMENT')\n",
    "plt.show()\n",
    "\n",
    "# Highest generation is observed during the time 10 AM and 3 PM. \n",
    "# The generation starts from around 6 AM in the morning and ends around 6.30 PM"
   ]
  },
  {
   "cell_type": "code",
   "execution_count": 740,
   "id": "999d4349",
   "metadata": {
    "ExecuteTime": {
     "end_time": "2023-09-18T12:02:34.674251Z",
     "start_time": "2023-09-18T12:02:34.488201Z"
    }
   },
   "outputs": [
    {
     "data": {
      "image/png": "[encoded data removed]",
      "text/plain": [
       "<Figure size 432x288 with 1 Axes>"
      ]
     },
     "metadata": {
      "needs_background": "light"
     },
     "output_type": "display_data"
    }
   ],
   "source": [
    "# What is the average radiation observed in each month\n",
    "\n",
    "month_radiation = solar.groupby(solar['Data'].dt.month)['Radiation'].mean()\n",
    "month_radiation.plot(kind = 'bar',color='#d10f18')\n",
    "plt.xlabel('Month')\n",
    "plt.ylabel('Average Radiation')\n",
    "plt.title('AVERAGE RADIATION IN EACH MONTH')\n",
    "plt.xticks(rotation = 0)\n",
    "plt.show()\n",
    "\n",
    "# Average Radiation drops significantly in the month of december "
   ]
  },
  {
   "cell_type": "code",
   "execution_count": 741,
   "id": "fac657b5",
   "metadata": {
    "ExecuteTime": {
     "end_time": "2023-09-18T12:02:34.926201Z",
     "start_time": "2023-09-18T12:02:34.676246Z"
    }
   },
   "outputs": [
    {
     "data": {
      "image/png": "[encoded data removed]",
      "text/plain": [
       "<Figure size 720x360 with 1 Axes>"
      ]
     },
     "metadata": {
      "needs_background": "light"
     },
     "output_type": "display_data"
    }
   ],
   "source": [
    "# How does Radiation vary with the wind speed?\n",
    "\n",
    "plt.figure(figsize=(10,5))\n",
    "radiation_sunrise = solar.groupby(by='Speed')['Radiation'].mean()\n",
    "radiation_sunrise.plot(kind = 'line',color = '#dbeb34')\n",
    "plt.xlabel('Wind speed')\n",
    "plt.ylabel('Average Radiation')\n",
    "plt.title('AVERAGE RADIATION VS WIND SPEED')\n",
    "plt.show()\n",
    "\n",
    "# As the wind speed increases, the average radiation also increases"
   ]
  },
  {
   "cell_type": "code",
   "execution_count": 742,
   "id": "caf1853b",
   "metadata": {
    "ExecuteTime": {
     "end_time": "2023-09-18T12:02:34.941161Z",
     "start_time": "2023-09-18T12:02:34.928195Z"
    }
   },
   "outputs": [],
   "source": [
    "y_main_solar = solar['Radiation']\n",
    "solar.drop(columns=['Radiation','Data','Time','TimeSunRise','TimeSunSet'],inplace=True,axis=1)"
   ]
  },
  {
   "cell_type": "code",
   "execution_count": 743,
   "id": "fab482df",
   "metadata": {
    "ExecuteTime": {
     "end_time": "2023-09-18T12:02:34.957117Z",
     "start_time": "2023-09-18T12:02:34.944151Z"
    }
   },
   "outputs": [],
   "source": [
    "x_main_solar = solar.copy()"
   ]
  },
  {
   "cell_type": "code",
   "execution_count": 744,
   "id": "370754c7",
   "metadata": {
    "ExecuteTime": {
     "end_time": "2023-09-18T12:02:34.988548Z",
     "start_time": "2023-09-18T12:02:34.959112Z"
    }
   },
   "outputs": [],
   "source": [
    "X_main_solar_num = x_main_solar.select_dtypes(include='number')\n",
    "ss=MinMaxScaler()\n",
    "scaled_solar = ss.fit_transform(X_main_solar_num)"
   ]
  },
  {
   "cell_type": "code",
   "execution_count": 745,
   "id": "2ba76cfb",
   "metadata": {
    "ExecuteTime": {
     "end_time": "2023-09-18T12:02:35.004023Z",
     "start_time": "2023-09-18T12:02:34.990545Z"
    }
   },
   "outputs": [],
   "source": [
    "scaled_solar = pd.DataFrame(scaled_solar,columns=X_main_solar_num.columns,index = X_main_solar_num.index)"
   ]
  },
  {
   "cell_type": "code",
   "execution_count": 746,
   "id": "01ee84bd",
   "metadata": {
    "ExecuteTime": {
     "end_time": "2023-09-18T12:02:35.019978Z",
     "start_time": "2023-09-18T12:02:35.007011Z"
    }
   },
   "outputs": [
    {
     "data": {
      "text/html": [
       "<div>\n",
       "<style scoped>\n",
       "    .dataframe tbody tr th:only-of-type {\n",
       "        vertical-align: middle;\n",
       "    }\n",
       "\n",
       "    .dataframe tbody tr th {\n",
       "        vertical-align: top;\n",
       "    }\n",
       "\n",
       "    .dataframe thead th {\n",
       "        text-align: right;\n",
       "    }\n",
       "</style>\n",
       "<table border=\"1\" class=\"dataframe\">\n",
       "  <thead>\n",
       "    <tr style=\"text-align: right;\">\n",
       "      <th></th>\n",
       "      <th>Temperature</th>\n",
       "      <th>Pressure</th>\n",
       "      <th>Humidity</th>\n",
       "      <th>WindDirection(Degrees)</th>\n",
       "      <th>Speed</th>\n",
       "    </tr>\n",
       "  </thead>\n",
       "  <tbody>\n",
       "    <tr>\n",
       "      <th>0</th>\n",
       "      <td>0.666667</td>\n",
       "      <td>0.583333</td>\n",
       "      <td>0.619565</td>\n",
       "      <td>0.081878</td>\n",
       "      <td>0.307798</td>\n",
       "    </tr>\n",
       "    <tr>\n",
       "      <th>1</th>\n",
       "      <td>0.463768</td>\n",
       "      <td>0.666667</td>\n",
       "      <td>0.923913</td>\n",
       "      <td>0.445762</td>\n",
       "      <td>0.692202</td>\n",
       "    </tr>\n",
       "    <tr>\n",
       "      <th>2</th>\n",
       "      <td>0.376812</td>\n",
       "      <td>0.708333</td>\n",
       "      <td>0.489130</td>\n",
       "      <td>0.367484</td>\n",
       "      <td>0.230506</td>\n",
       "    </tr>\n",
       "    <tr>\n",
       "      <th>3</th>\n",
       "      <td>0.666667</td>\n",
       "      <td>0.666667</td>\n",
       "      <td>0.891304</td>\n",
       "      <td>0.118525</td>\n",
       "      <td>0.153899</td>\n",
       "    </tr>\n",
       "    <tr>\n",
       "      <th>4</th>\n",
       "      <td>0.202899</td>\n",
       "      <td>0.000000</td>\n",
       "      <td>1.000000</td>\n",
       "      <td>0.546041</td>\n",
       "      <td>0.153899</td>\n",
       "    </tr>\n",
       "  </tbody>\n",
       "</table>\n",
       "</div>"
      ],
      "text/plain": [
       "   Temperature  Pressure  Humidity  WindDirection(Degrees)     Speed\n",
       "0     0.666667  0.583333  0.619565                0.081878  0.307798\n",
       "1     0.463768  0.666667  0.923913                0.445762  0.692202\n",
       "2     0.376812  0.708333  0.489130                0.367484  0.230506\n",
       "3     0.666667  0.666667  0.891304                0.118525  0.153899\n",
       "4     0.202899  0.000000  1.000000                0.546041  0.153899"
      ]
     },
     "execution_count": 746,
     "metadata": {},
     "output_type": "execute_result"
    }
   ],
   "source": [
    "scaled_solar.head()"
   ]
  },
  {
   "cell_type": "code",
   "execution_count": 747,
   "id": "19f00906",
   "metadata": {
    "ExecuteTime": {
     "end_time": "2023-09-18T12:02:35.051892Z",
     "start_time": "2023-09-18T12:02:35.021973Z"
    }
   },
   "outputs": [
    {
     "data": {
      "text/html": [
       "<div>\n",
       "<style scoped>\n",
       "    .dataframe tbody tr th:only-of-type {\n",
       "        vertical-align: middle;\n",
       "    }\n",
       "\n",
       "    .dataframe tbody tr th {\n",
       "        vertical-align: top;\n",
       "    }\n",
       "\n",
       "    .dataframe thead th {\n",
       "        text-align: right;\n",
       "    }\n",
       "</style>\n",
       "<table border=\"1\" class=\"dataframe\">\n",
       "  <thead>\n",
       "    <tr style=\"text-align: right;\">\n",
       "      <th></th>\n",
       "      <th>Temperature</th>\n",
       "      <th>Pressure</th>\n",
       "      <th>Humidity</th>\n",
       "      <th>WindDirection(Degrees)</th>\n",
       "      <th>Speed</th>\n",
       "    </tr>\n",
       "  </thead>\n",
       "  <tbody>\n",
       "    <tr>\n",
       "      <th>0</th>\n",
       "      <td>0.666667</td>\n",
       "      <td>0.583333</td>\n",
       "      <td>0.619565</td>\n",
       "      <td>0.081878</td>\n",
       "      <td>0.307798</td>\n",
       "    </tr>\n",
       "    <tr>\n",
       "      <th>1</th>\n",
       "      <td>0.463768</td>\n",
       "      <td>0.666667</td>\n",
       "      <td>0.923913</td>\n",
       "      <td>0.445762</td>\n",
       "      <td>0.692202</td>\n",
       "    </tr>\n",
       "    <tr>\n",
       "      <th>2</th>\n",
       "      <td>0.376812</td>\n",
       "      <td>0.708333</td>\n",
       "      <td>0.489130</td>\n",
       "      <td>0.367484</td>\n",
       "      <td>0.230506</td>\n",
       "    </tr>\n",
       "    <tr>\n",
       "      <th>3</th>\n",
       "      <td>0.666667</td>\n",
       "      <td>0.666667</td>\n",
       "      <td>0.891304</td>\n",
       "      <td>0.118525</td>\n",
       "      <td>0.153899</td>\n",
       "    </tr>\n",
       "    <tr>\n",
       "      <th>4</th>\n",
       "      <td>0.202899</td>\n",
       "      <td>0.000000</td>\n",
       "      <td>1.000000</td>\n",
       "      <td>0.546041</td>\n",
       "      <td>0.153899</td>\n",
       "    </tr>\n",
       "  </tbody>\n",
       "</table>\n",
       "</div>"
      ],
      "text/plain": [
       "   Temperature  Pressure  Humidity  WindDirection(Degrees)     Speed\n",
       "0     0.666667  0.583333  0.619565                0.081878  0.307798\n",
       "1     0.463768  0.666667  0.923913                0.445762  0.692202\n",
       "2     0.376812  0.708333  0.489130                0.367484  0.230506\n",
       "3     0.666667  0.666667  0.891304                0.118525  0.153899\n",
       "4     0.202899  0.000000  1.000000                0.546041  0.153899"
      ]
     },
     "execution_count": 747,
     "metadata": {},
     "output_type": "execute_result"
    }
   ],
   "source": [
    "X_main_solar = scaled_solar.copy()\n",
    "X_main_solar.head()"
   ]
  },
  {
   "cell_type": "code",
   "execution_count": 748,
   "id": "9d7fd498",
   "metadata": {
    "ExecuteTime": {
     "end_time": "2023-09-18T12:02:35.083808Z",
     "start_time": "2023-09-18T12:02:35.055880Z"
    }
   },
   "outputs": [],
   "source": [
    "X_train_solar, X_test_solar, y_train_solar,y_test_solar = train_test_split(X_main_solar,y_main_solar,test_size=0.3)"
   ]
  },
  {
   "cell_type": "code",
   "execution_count": 749,
   "id": "19ae657f",
   "metadata": {
    "ExecuteTime": {
     "end_time": "2023-09-18T12:02:35.099763Z",
     "start_time": "2023-09-18T12:02:35.086797Z"
    }
   },
   "outputs": [
    {
     "name": "stdout",
     "output_type": "stream",
     "text": [
      "Shape of X_train is: (18303, 5)\n",
      "Shape of X_test is: (7845, 5)\n",
      "Shape of y_train is: (18303,)\n",
      "Shape of y_test is: (7845,)\n"
     ]
    }
   ],
   "source": [
    "print('Shape of X_train is:', X_train_solar.shape)\n",
    "print('Shape of X_test is:', X_test_solar.shape)\n",
    "print('Shape of y_train is:', y_train_solar.shape)\n",
    "print('Shape of y_test is:', y_test_solar.shape)"
   ]
  },
  {
   "cell_type": "code",
   "execution_count": 750,
   "id": "d48568d2",
   "metadata": {
    "ExecuteTime": {
     "end_time": "2023-09-18T12:03:05.289680Z",
     "start_time": "2023-09-18T12:02:35.103752Z"
    }
   },
   "outputs": [],
   "source": [
    "k_values = np.arange(1,30,2)\n",
    "cv_mape_scores_3=[]\n",
    "train_mape_scores_3=[]\n",
    "test_mape_scores_3=[]\n",
    "\n",
    "for a in k_values:\n",
    "    knn3 = KNeighborsRegressor(n_neighbors=a)\n",
    "    cv_scores = -cross_val_score(knn3,X_main_solar,y_main_solar,cv = 5,scoring='neg_mean_absolute_percentage_error')\n",
    "    cv_mape = np.mean(cv_scores)\n",
    "    cv_mape_scores_3.append(cv_mape)\n",
    "    \n",
    "    knn3.fit(X_train_solar,y_train_solar)\n",
    "    train_pred = knn3.predict(X_train_solar)\n",
    "    train_mape = mean_absolute_percentage_error(y_train_solar,train_pred)\n",
    "    train_mape_scores_3.append(train_mape)\n",
    "    \n",
    "    test_pred = knn3.predict(X_test_solar)\n",
    "    test_mape = mean_absolute_percentage_error(y_test_solar, test_pred)\n",
    "    test_mape_scores_3.append(test_mape)\n",
    "\n",
    "    "
   ]
  },
  {
   "cell_type": "code",
   "execution_count": 751,
   "id": "97df1dd9",
   "metadata": {
    "ExecuteTime": {
     "end_time": "2023-09-18T12:03:05.616840Z",
     "start_time": "2023-09-18T12:03:05.291675Z"
    }
   },
   "outputs": [
    {
     "data": {
      "image/png": "[encoded data removed]",
      "text/plain": [
       "<Figure size 720x432 with 1 Axes>"
      ]
     },
     "metadata": {
      "needs_background": "light"
     },
     "output_type": "display_data"
    },
    {
     "name": "stdout",
     "output_type": "stream",
     "text": [
      "The best K value for CV is 1.\n"
     ]
    }
   ],
   "source": [
    "plt.figure(figsize=(10, 6))\n",
    "plt.plot(k_values, cv_mape_scores_3, marker='o', label='CV MAPE')\n",
    "plt.plot(k_values, train_mape_scores_3, marker='o', label='Train MAPE')\n",
    "plt.plot(k_values, test_mape_scores_3, marker='o', label='Test MAPE')\n",
    "plt.xlabel('K value')\n",
    "plt.ylabel('MAPE Score')\n",
    "plt.title('MAPE Scores for different K values in KNN Regressor')\n",
    "plt.legend()\n",
    "plt.show()\n",
    "\n",
    "# Compare the best K value for CV\n",
    "best_k_cv = k_values[np.argmin(cv_mape_scores_3)]\n",
    "print(f\"The best K value for CV is {best_k_cv}.\")"
   ]
  }
 ],
 "metadata": {
  "kernelspec": {
   "display_name": "Python 3 (ipykernel)",
   "language": "python",
   "name": "python3"
  },
  "language_info": {
   "codemirror_mode": {
    "name": "ipython",
    "version": 3
   },
   "file_extension": ".py",
   "mimetype": "text/x-python",
   "name": "python",
   "nbconvert_exporter": "python",
   "pygments_lexer": "ipython3",
   "version": "3.9.7"
  }
 },
 "nbformat": 4,
 "nbformat_minor": 5
}
