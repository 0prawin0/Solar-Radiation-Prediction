{
 "cells": [
  {
   "cell_type": "markdown",
   "id": "c578e245",
   "metadata": {
    "ExecuteTime": {
     "end_time": "2023-09-16T07:29:45.553562Z",
     "start_time": "2023-09-16T07:29:45.538604Z"
    }
   },
   "source": [
    "# Solar Radiation Prediction Dataset"
   ]
  },
  {
   "cell_type": "code",
   "execution_count": 256,
   "id": "f92386f1",
   "metadata": {
    "ExecuteTime": {
     "end_time": "2023-10-15T10:01:27.398358Z",
     "start_time": "2023-10-15T10:01:25.635817Z"
    }
   },
   "outputs": [],
   "source": [
    "import pandas as pd\n",
    "import numpy as np\n",
    "import matplotlib.pyplot as plt\n",
    "import seaborn as sns\n",
    "from sklearn.preprocessing import MinMaxScaler\n",
    "from sklearn.model_selection import train_test_split\n",
    "from sklearn.neighbors import KNeighborsRegressor\n",
    "from sklearn.model_selection import cross_val_score\n",
    "from sklearn.metrics import mean_absolute_percentage_error,mean_squared_error,r2_score\n",
    "from sklearn.linear_model import LinearRegression\n",
    "import statsmodels.api as sm"
   ]
  },
  {
   "cell_type": "code",
   "execution_count": 137,
   "id": "a779debe",
   "metadata": {
    "ExecuteTime": {
     "end_time": "2023-10-15T07:37:43.644904Z",
     "start_time": "2023-10-15T07:37:43.569005Z"
    },
    "scrolled": true
   },
   "outputs": [
    {
     "data": {
      "text/html": [
       "<div>\n",
       "<style scoped>\n",
       "    .dataframe tbody tr th:only-of-type {\n",
       "        vertical-align: middle;\n",
       "    }\n",
       "\n",
       "    .dataframe tbody tr th {\n",
       "        vertical-align: top;\n",
       "    }\n",
       "\n",
       "    .dataframe thead th {\n",
       "        text-align: right;\n",
       "    }\n",
       "</style>\n",
       "<table border=\"1\" class=\"dataframe\">\n",
       "  <thead>\n",
       "    <tr style=\"text-align: right;\">\n",
       "      <th></th>\n",
       "      <th>Id</th>\n",
       "      <th>UNIXTime</th>\n",
       "      <th>Data</th>\n",
       "      <th>Time</th>\n",
       "      <th>Temperature</th>\n",
       "      <th>Pressure</th>\n",
       "      <th>Humidity</th>\n",
       "      <th>WindDirection(Degrees)</th>\n",
       "      <th>Speed</th>\n",
       "      <th>TimeSunRise</th>\n",
       "      <th>TimeSunSet</th>\n",
       "      <th>Radiation</th>\n",
       "    </tr>\n",
       "  </thead>\n",
       "  <tbody>\n",
       "    <tr>\n",
       "      <th>0</th>\n",
       "      <td>4152</td>\n",
       "      <td>1473879005</td>\n",
       "      <td>9/14/2016 12:00:00 AM</td>\n",
       "      <td>08:50:05</td>\n",
       "      <td>57</td>\n",
       "      <td>30.45</td>\n",
       "      <td>68</td>\n",
       "      <td>26.70</td>\n",
       "      <td>4.50</td>\n",
       "      <td>06:10:00</td>\n",
       "      <td>18:26:00</td>\n",
       "      <td>680.04</td>\n",
       "    </tr>\n",
       "    <tr>\n",
       "      <th>1</th>\n",
       "      <td>13047</td>\n",
       "      <td>1476293121</td>\n",
       "      <td>10/12/2016 12:00:00 AM</td>\n",
       "      <td>07:25:21</td>\n",
       "      <td>50</td>\n",
       "      <td>30.47</td>\n",
       "      <td>96</td>\n",
       "      <td>144.96</td>\n",
       "      <td>10.12</td>\n",
       "      <td>06:16:00</td>\n",
       "      <td>18:02:00</td>\n",
       "      <td>277.37</td>\n",
       "    </tr>\n",
       "    <tr>\n",
       "      <th>2</th>\n",
       "      <td>7420</td>\n",
       "      <td>1477993220</td>\n",
       "      <td>10/31/2016 12:00:00 AM</td>\n",
       "      <td>23:40:20</td>\n",
       "      <td>47</td>\n",
       "      <td>30.48</td>\n",
       "      <td>56</td>\n",
       "      <td>119.52</td>\n",
       "      <td>3.37</td>\n",
       "      <td>06:23:00</td>\n",
       "      <td>17:49:00</td>\n",
       "      <td>1.29</td>\n",
       "    </tr>\n",
       "    <tr>\n",
       "      <th>3</th>\n",
       "      <td>6508</td>\n",
       "      <td>1473013505</td>\n",
       "      <td>9/4/2016 12:00:00 AM</td>\n",
       "      <td>08:25:05</td>\n",
       "      <td>57</td>\n",
       "      <td>30.47</td>\n",
       "      <td>93</td>\n",
       "      <td>38.61</td>\n",
       "      <td>2.25</td>\n",
       "      <td>06:08:00</td>\n",
       "      <td>18:35:00</td>\n",
       "      <td>544.75</td>\n",
       "    </tr>\n",
       "    <tr>\n",
       "      <th>4</th>\n",
       "      <td>29110</td>\n",
       "      <td>1481885434</td>\n",
       "      <td>12/16/2016 12:00:00 AM</td>\n",
       "      <td>00:50:34</td>\n",
       "      <td>41</td>\n",
       "      <td>30.23</td>\n",
       "      <td>103</td>\n",
       "      <td>177.55</td>\n",
       "      <td>2.25</td>\n",
       "      <td>06:50:00</td>\n",
       "      <td>17:46:00</td>\n",
       "      <td>1.22</td>\n",
       "    </tr>\n",
       "  </tbody>\n",
       "</table>\n",
       "</div>"
      ],
      "text/plain": [
       "      Id    UNIXTime                    Data      Time  Temperature  Pressure  \\\n",
       "0   4152  1473879005   9/14/2016 12:00:00 AM  08:50:05           57     30.45   \n",
       "1  13047  1476293121  10/12/2016 12:00:00 AM  07:25:21           50     30.47   \n",
       "2   7420  1477993220  10/31/2016 12:00:00 AM  23:40:20           47     30.48   \n",
       "3   6508  1473013505    9/4/2016 12:00:00 AM  08:25:05           57     30.47   \n",
       "4  29110  1481885434  12/16/2016 12:00:00 AM  00:50:34           41     30.23   \n",
       "\n",
       "   Humidity  WindDirection(Degrees)  Speed TimeSunRise TimeSunSet  Radiation  \n",
       "0        68                   26.70   4.50    06:10:00   18:26:00     680.04  \n",
       "1        96                  144.96  10.12    06:16:00   18:02:00     277.37  \n",
       "2        56                  119.52   3.37    06:23:00   17:49:00       1.29  \n",
       "3        93                   38.61   2.25    06:08:00   18:35:00     544.75  \n",
       "4       103                  177.55   2.25    06:50:00   17:46:00       1.22  "
      ]
     },
     "execution_count": 137,
     "metadata": {},
     "output_type": "execute_result"
    }
   ],
   "source": [
    "Solar_orig=pd.read_csv(r'C:\\Users\\Prawin\\Desktop\\Praxis assessment\\IML\\Assignment-1\\solar_train.csv')\n",
    "solar = Solar_orig.copy()\n",
    "solar.head()"
   ]
  },
  {
   "cell_type": "code",
   "execution_count": 138,
   "id": "cae825d0",
   "metadata": {
    "ExecuteTime": {
     "end_time": "2023-10-15T07:37:43.656916Z",
     "start_time": "2023-10-15T07:37:43.644904Z"
    }
   },
   "outputs": [],
   "source": [
    "solar.drop(columns=['Id','UNIXTime'],inplace=True)\n",
    "\n",
    "# Since we have time and date, we donot need UNIX time"
   ]
  },
  {
   "cell_type": "code",
   "execution_count": 139,
   "id": "6a1ac430",
   "metadata": {
    "ExecuteTime": {
     "end_time": "2023-10-15T07:37:43.688913Z",
     "start_time": "2023-10-15T07:37:43.656916Z"
    }
   },
   "outputs": [
    {
     "data": {
      "text/html": [
       "<div>\n",
       "<style scoped>\n",
       "    .dataframe tbody tr th:only-of-type {\n",
       "        vertical-align: middle;\n",
       "    }\n",
       "\n",
       "    .dataframe tbody tr th {\n",
       "        vertical-align: top;\n",
       "    }\n",
       "\n",
       "    .dataframe thead th {\n",
       "        text-align: right;\n",
       "    }\n",
       "</style>\n",
       "<table border=\"1\" class=\"dataframe\">\n",
       "  <thead>\n",
       "    <tr style=\"text-align: right;\">\n",
       "      <th></th>\n",
       "      <th>Data</th>\n",
       "      <th>Time</th>\n",
       "      <th>Temperature</th>\n",
       "      <th>Pressure</th>\n",
       "      <th>Humidity</th>\n",
       "      <th>WindDirection(Degrees)</th>\n",
       "      <th>Speed</th>\n",
       "      <th>TimeSunRise</th>\n",
       "      <th>TimeSunSet</th>\n",
       "      <th>Radiation</th>\n",
       "    </tr>\n",
       "  </thead>\n",
       "  <tbody>\n",
       "    <tr>\n",
       "      <th>0</th>\n",
       "      <td>9/14/2016 12:00:00 AM</td>\n",
       "      <td>08:50:05</td>\n",
       "      <td>57</td>\n",
       "      <td>30.45</td>\n",
       "      <td>68</td>\n",
       "      <td>26.70</td>\n",
       "      <td>4.50</td>\n",
       "      <td>06:10:00</td>\n",
       "      <td>18:26:00</td>\n",
       "      <td>680.04</td>\n",
       "    </tr>\n",
       "    <tr>\n",
       "      <th>1</th>\n",
       "      <td>10/12/2016 12:00:00 AM</td>\n",
       "      <td>07:25:21</td>\n",
       "      <td>50</td>\n",
       "      <td>30.47</td>\n",
       "      <td>96</td>\n",
       "      <td>144.96</td>\n",
       "      <td>10.12</td>\n",
       "      <td>06:16:00</td>\n",
       "      <td>18:02:00</td>\n",
       "      <td>277.37</td>\n",
       "    </tr>\n",
       "    <tr>\n",
       "      <th>2</th>\n",
       "      <td>10/31/2016 12:00:00 AM</td>\n",
       "      <td>23:40:20</td>\n",
       "      <td>47</td>\n",
       "      <td>30.48</td>\n",
       "      <td>56</td>\n",
       "      <td>119.52</td>\n",
       "      <td>3.37</td>\n",
       "      <td>06:23:00</td>\n",
       "      <td>17:49:00</td>\n",
       "      <td>1.29</td>\n",
       "    </tr>\n",
       "    <tr>\n",
       "      <th>3</th>\n",
       "      <td>9/4/2016 12:00:00 AM</td>\n",
       "      <td>08:25:05</td>\n",
       "      <td>57</td>\n",
       "      <td>30.47</td>\n",
       "      <td>93</td>\n",
       "      <td>38.61</td>\n",
       "      <td>2.25</td>\n",
       "      <td>06:08:00</td>\n",
       "      <td>18:35:00</td>\n",
       "      <td>544.75</td>\n",
       "    </tr>\n",
       "    <tr>\n",
       "      <th>4</th>\n",
       "      <td>12/16/2016 12:00:00 AM</td>\n",
       "      <td>00:50:34</td>\n",
       "      <td>41</td>\n",
       "      <td>30.23</td>\n",
       "      <td>103</td>\n",
       "      <td>177.55</td>\n",
       "      <td>2.25</td>\n",
       "      <td>06:50:00</td>\n",
       "      <td>17:46:00</td>\n",
       "      <td>1.22</td>\n",
       "    </tr>\n",
       "  </tbody>\n",
       "</table>\n",
       "</div>"
      ],
      "text/plain": [
       "                     Data      Time  Temperature  Pressure  Humidity  \\\n",
       "0   9/14/2016 12:00:00 AM  08:50:05           57     30.45        68   \n",
       "1  10/12/2016 12:00:00 AM  07:25:21           50     30.47        96   \n",
       "2  10/31/2016 12:00:00 AM  23:40:20           47     30.48        56   \n",
       "3    9/4/2016 12:00:00 AM  08:25:05           57     30.47        93   \n",
       "4  12/16/2016 12:00:00 AM  00:50:34           41     30.23       103   \n",
       "\n",
       "   WindDirection(Degrees)  Speed TimeSunRise TimeSunSet  Radiation  \n",
       "0                   26.70   4.50    06:10:00   18:26:00     680.04  \n",
       "1                  144.96  10.12    06:16:00   18:02:00     277.37  \n",
       "2                  119.52   3.37    06:23:00   17:49:00       1.29  \n",
       "3                   38.61   2.25    06:08:00   18:35:00     544.75  \n",
       "4                  177.55   2.25    06:50:00   17:46:00       1.22  "
      ]
     },
     "execution_count": 139,
     "metadata": {},
     "output_type": "execute_result"
    }
   ],
   "source": [
    "solar.head()"
   ]
  },
  {
   "cell_type": "code",
   "execution_count": 140,
   "id": "17096844",
   "metadata": {
    "ExecuteTime": {
     "end_time": "2023-10-15T07:37:43.721181Z",
     "start_time": "2023-10-15T07:37:43.688913Z"
    }
   },
   "outputs": [
    {
     "name": "stdout",
     "output_type": "stream",
     "text": [
      "<class 'pandas.core.frame.DataFrame'>\n",
      "RangeIndex: 26148 entries, 0 to 26147\n",
      "Data columns (total 10 columns):\n",
      " #   Column                  Non-Null Count  Dtype  \n",
      "---  ------                  --------------  -----  \n",
      " 0   Data                    26148 non-null  object \n",
      " 1   Time                    26148 non-null  object \n",
      " 2   Temperature             26148 non-null  int64  \n",
      " 3   Pressure                26148 non-null  float64\n",
      " 4   Humidity                26148 non-null  int64  \n",
      " 5   WindDirection(Degrees)  26148 non-null  float64\n",
      " 6   Speed                   26148 non-null  float64\n",
      " 7   TimeSunRise             26148 non-null  object \n",
      " 8   TimeSunSet              26148 non-null  object \n",
      " 9   Radiation               26148 non-null  float64\n",
      "dtypes: float64(4), int64(2), object(4)\n",
      "memory usage: 2.0+ MB\n"
     ]
    }
   ],
   "source": [
    "solar.info()\n",
    "\n",
    "# As observed there are no missing values"
   ]
  },
  {
   "cell_type": "code",
   "execution_count": 141,
   "id": "0ffdf651",
   "metadata": {
    "ExecuteTime": {
     "end_time": "2023-10-15T07:37:43.769202Z",
     "start_time": "2023-10-15T07:37:43.721181Z"
    }
   },
   "outputs": [
    {
     "data": {
      "text/html": [
       "<div>\n",
       "<style scoped>\n",
       "    .dataframe tbody tr th:only-of-type {\n",
       "        vertical-align: middle;\n",
       "    }\n",
       "\n",
       "    .dataframe tbody tr th {\n",
       "        vertical-align: top;\n",
       "    }\n",
       "\n",
       "    .dataframe thead th {\n",
       "        text-align: right;\n",
       "    }\n",
       "</style>\n",
       "<table border=\"1\" class=\"dataframe\">\n",
       "  <thead>\n",
       "    <tr style=\"text-align: right;\">\n",
       "      <th></th>\n",
       "      <th>Temperature</th>\n",
       "      <th>Pressure</th>\n",
       "      <th>Humidity</th>\n",
       "      <th>WindDirection(Degrees)</th>\n",
       "      <th>Speed</th>\n",
       "      <th>Radiation</th>\n",
       "    </tr>\n",
       "  </thead>\n",
       "  <tbody>\n",
       "    <tr>\n",
       "      <th>count</th>\n",
       "      <td>26148.000000</td>\n",
       "      <td>26148.000000</td>\n",
       "      <td>26148.000000</td>\n",
       "      <td>26148.000000</td>\n",
       "      <td>26148.000000</td>\n",
       "      <td>26148.000000</td>\n",
       "    </tr>\n",
       "    <tr>\n",
       "      <th>mean</th>\n",
       "      <td>51.104865</td>\n",
       "      <td>30.422835</td>\n",
       "      <td>75.005239</td>\n",
       "      <td>143.259970</td>\n",
       "      <td>6.248521</td>\n",
       "      <td>208.044780</td>\n",
       "    </tr>\n",
       "    <tr>\n",
       "      <th>std</th>\n",
       "      <td>6.213912</td>\n",
       "      <td>0.054724</td>\n",
       "      <td>25.993102</td>\n",
       "      <td>82.988177</td>\n",
       "      <td>3.484166</td>\n",
       "      <td>316.090247</td>\n",
       "    </tr>\n",
       "    <tr>\n",
       "      <th>min</th>\n",
       "      <td>34.000000</td>\n",
       "      <td>30.190000</td>\n",
       "      <td>11.000000</td>\n",
       "      <td>0.090000</td>\n",
       "      <td>0.000000</td>\n",
       "      <td>1.130000</td>\n",
       "    </tr>\n",
       "    <tr>\n",
       "      <th>25%</th>\n",
       "      <td>46.000000</td>\n",
       "      <td>30.400000</td>\n",
       "      <td>56.000000</td>\n",
       "      <td>81.977500</td>\n",
       "      <td>3.370000</td>\n",
       "      <td>1.230000</td>\n",
       "    </tr>\n",
       "    <tr>\n",
       "      <th>50%</th>\n",
       "      <td>50.000000</td>\n",
       "      <td>30.430000</td>\n",
       "      <td>85.000000</td>\n",
       "      <td>147.645000</td>\n",
       "      <td>5.620000</td>\n",
       "      <td>2.710000</td>\n",
       "    </tr>\n",
       "    <tr>\n",
       "      <th>75%</th>\n",
       "      <td>55.000000</td>\n",
       "      <td>30.460000</td>\n",
       "      <td>97.000000</td>\n",
       "      <td>179.220000</td>\n",
       "      <td>7.870000</td>\n",
       "      <td>358.945000</td>\n",
       "    </tr>\n",
       "    <tr>\n",
       "      <th>max</th>\n",
       "      <td>71.000000</td>\n",
       "      <td>30.560000</td>\n",
       "      <td>103.000000</td>\n",
       "      <td>359.950000</td>\n",
       "      <td>39.370000</td>\n",
       "      <td>1601.260000</td>\n",
       "    </tr>\n",
       "  </tbody>\n",
       "</table>\n",
       "</div>"
      ],
      "text/plain": [
       "        Temperature      Pressure      Humidity  WindDirection(Degrees)  \\\n",
       "count  26148.000000  26148.000000  26148.000000            26148.000000   \n",
       "mean      51.104865     30.422835     75.005239              143.259970   \n",
       "std        6.213912      0.054724     25.993102               82.988177   \n",
       "min       34.000000     30.190000     11.000000                0.090000   \n",
       "25%       46.000000     30.400000     56.000000               81.977500   \n",
       "50%       50.000000     30.430000     85.000000              147.645000   \n",
       "75%       55.000000     30.460000     97.000000              179.220000   \n",
       "max       71.000000     30.560000    103.000000              359.950000   \n",
       "\n",
       "              Speed     Radiation  \n",
       "count  26148.000000  26148.000000  \n",
       "mean       6.248521    208.044780  \n",
       "std        3.484166    316.090247  \n",
       "min        0.000000      1.130000  \n",
       "25%        3.370000      1.230000  \n",
       "50%        5.620000      2.710000  \n",
       "75%        7.870000    358.945000  \n",
       "max       39.370000   1601.260000  "
      ]
     },
     "execution_count": 141,
     "metadata": {},
     "output_type": "execute_result"
    }
   ],
   "source": [
    "solar.describe()\n",
    "\n",
    "#It looks like there might be outliers in WindDirection(Degrees), Speed and Radiation"
   ]
  },
  {
   "cell_type": "code",
   "execution_count": 142,
   "id": "1356020f",
   "metadata": {
    "ExecuteTime": {
     "end_time": "2023-10-15T07:37:43.892996Z",
     "start_time": "2023-10-15T07:37:43.769202Z"
    }
   },
   "outputs": [
    {
     "data": {
      "image/png": "[encoded data removed]",
      "text/plain": [
       "<Figure size 1440x360 with 1 Axes>"
      ]
     },
     "metadata": {
      "needs_background": "light"
     },
     "output_type": "display_data"
    }
   ],
   "source": [
    "# Checking for outliers in Temperature column\n",
    "\n",
    "plt.figure(figsize=(20,5))\n",
    "sns.boxplot(x = solar['Temperature'])\n",
    "plt.title('Box Plot of Temperature')\n",
    "plt.xlabel('Tempurature')\n",
    "plt.show()"
   ]
  },
  {
   "cell_type": "code",
   "execution_count": 143,
   "id": "f08d6c6f",
   "metadata": {
    "ExecuteTime": {
     "end_time": "2023-10-15T07:37:44.020834Z",
     "start_time": "2023-10-15T07:37:43.892996Z"
    }
   },
   "outputs": [
    {
     "data": {
      "image/png": "[encoded data removed]",
      "text/plain": [
       "<Figure size 1440x360 with 1 Axes>"
      ]
     },
     "metadata": {
      "needs_background": "light"
     },
     "output_type": "display_data"
    }
   ],
   "source": [
    "# Checking for outliers in Pressure column\n",
    "\n",
    "plt.figure(figsize=(20,5))\n",
    "sns.boxplot(x = solar['Pressure'])\n",
    "plt.title('Box Plot of Pressure')\n",
    "plt.xlabel('Pressure')\n",
    "plt.show()"
   ]
  },
  {
   "cell_type": "code",
   "execution_count": 144,
   "id": "0f03c4ca",
   "metadata": {
    "ExecuteTime": {
     "end_time": "2023-10-15T07:37:44.140668Z",
     "start_time": "2023-10-15T07:37:44.020834Z"
    }
   },
   "outputs": [
    {
     "data": {
      "image/png": "[encoded data removed]",
      "text/plain": [
       "<Figure size 1440x360 with 1 Axes>"
      ]
     },
     "metadata": {
      "needs_background": "light"
     },
     "output_type": "display_data"
    }
   ],
   "source": [
    "# Checking for outliers in Humidity column\n",
    "\n",
    "plt.figure(figsize=(20,5))\n",
    "sns.boxplot(x = solar['Humidity'])\n",
    "plt.title('Box Plot of Humidity')\n",
    "plt.xlabel('Humidity')\n",
    "plt.show()"
   ]
  },
  {
   "cell_type": "code",
   "execution_count": 145,
   "id": "23c3e802",
   "metadata": {
    "ExecuteTime": {
     "end_time": "2023-10-15T07:37:44.264720Z",
     "start_time": "2023-10-15T07:37:44.144661Z"
    }
   },
   "outputs": [
    {
     "data": {
      "image/png": "[encoded data removed]",
      "text/plain": [
       "<Figure size 1440x360 with 1 Axes>"
      ]
     },
     "metadata": {
      "needs_background": "light"
     },
     "output_type": "display_data"
    }
   ],
   "source": [
    "# Checking for outliers in Wind Direction column\n",
    "\n",
    "plt.figure(figsize=(20,5))\n",
    "sns.boxplot(x = solar['WindDirection(Degrees)'])\n",
    "plt.title('Box Plot of WindDirection(Degrees)')\n",
    "plt.xlabel('WindDirection(Degrees)')\n",
    "plt.show()"
   ]
  },
  {
   "cell_type": "code",
   "execution_count": 146,
   "id": "d6571c77",
   "metadata": {
    "ExecuteTime": {
     "end_time": "2023-10-15T07:37:44.388335Z",
     "start_time": "2023-10-15T07:37:44.264720Z"
    }
   },
   "outputs": [
    {
     "data": {
      "image/png": "[encoded data removed]",
      "text/plain": [
       "<Figure size 1440x360 with 1 Axes>"
      ]
     },
     "metadata": {
      "needs_background": "light"
     },
     "output_type": "display_data"
    }
   ],
   "source": [
    "# Checking for outliers in Speed column\n",
    "\n",
    "plt.figure(figsize=(20,5))\n",
    "sns.boxplot(x = solar['Speed'])\n",
    "plt.title('Box Plot of Speed')\n",
    "plt.xlabel('Speed')\n",
    "plt.show()"
   ]
  },
  {
   "cell_type": "code",
   "execution_count": 147,
   "id": "45565558",
   "metadata": {
    "ExecuteTime": {
     "end_time": "2023-10-15T07:37:44.512415Z",
     "start_time": "2023-10-15T07:37:44.388335Z"
    }
   },
   "outputs": [
    {
     "data": {
      "image/png": "[encoded data removed]",
      "text/plain": [
       "<Figure size 1440x360 with 1 Axes>"
      ]
     },
     "metadata": {
      "needs_background": "light"
     },
     "output_type": "display_data"
    }
   ],
   "source": [
    "# Checking for outliers in Radiation column\n",
    "\n",
    "plt.figure(figsize=(20,5))\n",
    "sns.boxplot(x = solar['Radiation'])\n",
    "plt.title('Box Plot of Radiation')\n",
    "plt.xlabel('Radiation')\n",
    "plt.show()"
   ]
  },
  {
   "cell_type": "code",
   "execution_count": 148,
   "id": "709f59fd",
   "metadata": {
    "ExecuteTime": {
     "end_time": "2023-10-15T07:37:44.528147Z",
     "start_time": "2023-10-15T07:37:44.512415Z"
    }
   },
   "outputs": [],
   "source": [
    "# As observed from above box plots, there are outliers in columns Radiation, Speed, WindDirection,Pressure and Temperature"
   ]
  },
  {
   "cell_type": "code",
   "execution_count": 149,
   "id": "a07877fe",
   "metadata": {
    "ExecuteTime": {
     "end_time": "2023-10-15T07:37:44.560315Z",
     "start_time": "2023-10-15T07:37:44.528147Z"
    }
   },
   "outputs": [
    {
     "name": "stdout",
     "output_type": "stream",
     "text": [
      "lower bounds are:\n",
      " Radiation                -535.34250\n",
      "Speed                      -3.38000\n",
      "WindDirection(Degrees)    -63.88625\n",
      "Pressure                   30.31000\n",
      "Temperature                32.50000\n",
      "dtype: float64\n",
      "----------------------------------------------------------------------\n",
      "upper bounds are:\n",
      " Radiation                 895.51750\n",
      "Speed                      14.62000\n",
      "WindDirection(Degrees)    325.08375\n",
      "Pressure                   30.55000\n",
      "Temperature                68.50000\n",
      "dtype: float64\n"
     ]
    }
   ],
   "source": [
    "# Getting outlier limits for above mentioned columns\n",
    "\n",
    "num_cols_solar = solar[['Radiation','Speed','WindDirection(Degrees)','Pressure','Temperature']]\n",
    "Q1 = num_cols_solar.quantile(0.25)\n",
    "Q3 = num_cols_solar.quantile(0.75)\n",
    "IQR = Q3 - Q1\n",
    "lower_bound = Q1 - 1.5 * IQR\n",
    "upper_bound = Q3 + 1.5 * IQR\n",
    "\n",
    "print('lower bounds are:\\n',lower_bound)\n",
    "print('-'*70)\n",
    "print('upper bounds are:\\n',upper_bound)"
   ]
  },
  {
   "cell_type": "code",
   "execution_count": 150,
   "id": "b57c5e80",
   "metadata": {
    "ExecuteTime": {
     "end_time": "2023-10-15T07:37:44.588071Z",
     "start_time": "2023-10-15T07:37:44.560315Z"
    }
   },
   "outputs": [
    {
     "name": "stdout",
     "output_type": "stream",
     "text": [
      "column is: Radiation\n",
      "min side outliers count is:\n",
      "0\n",
      "max side outliers count is:\n",
      "1426\n",
      "----------------------------------------\n",
      "column is: Speed\n",
      "min side outliers count is:\n",
      "0\n",
      "max side outliers count is:\n",
      "382\n",
      "----------------------------------------\n",
      "column is: WindDirection(Degrees)\n",
      "min side outliers count is:\n",
      "0\n",
      "max side outliers count is:\n",
      "1259\n",
      "----------------------------------------\n",
      "column is: Pressure\n",
      "min side outliers count is:\n",
      "1310\n",
      "max side outliers count is:\n",
      "26\n",
      "----------------------------------------\n",
      "column is: Temperature\n",
      "min side outliers count is:\n",
      "0\n",
      "max side outliers count is:\n",
      "76\n",
      "----------------------------------------\n"
     ]
    }
   ],
   "source": [
    "#Checking the count of outliers\n",
    "\n",
    "for x in num_cols_solar.columns:\n",
    "    print('column is:',x)\n",
    "    print('min side outliers count is:')\n",
    "    print(solar[solar[x] < lower_bound[x]][x].count())\n",
    "    print('max side outliers count is:')\n",
    "    print(solar[solar[x] > upper_bound[x]][x].count())\n",
    "    print('-'*40)"
   ]
  },
  {
   "cell_type": "code",
   "execution_count": 151,
   "id": "b524b975",
   "metadata": {
    "ExecuteTime": {
     "end_time": "2023-10-15T07:37:44.604085Z",
     "start_time": "2023-10-15T07:37:44.588071Z"
    }
   },
   "outputs": [],
   "source": [
    "# Removing the outliers\n",
    "\n",
    "for x in num_cols_solar.columns:\n",
    "    solar.loc[solar[x] > upper_bound[x],x] = upper_bound[x]\n",
    "\n",
    "solar.loc[solar['Pressure'] < lower_bound['Pressure'],'Pressure'] = lower_bound['Pressure']"
   ]
  },
  {
   "cell_type": "code",
   "execution_count": 152,
   "id": "1ca7e8a1",
   "metadata": {
    "ExecuteTime": {
     "end_time": "2023-10-15T07:37:44.632009Z",
     "start_time": "2023-10-15T07:37:44.604085Z"
    }
   },
   "outputs": [
    {
     "name": "stdout",
     "output_type": "stream",
     "text": [
      "lower bounds are:\n",
      " Radiation                -535.34250\n",
      "Speed                      -3.38000\n",
      "WindDirection(Degrees)    -63.88625\n",
      "Pressure                   30.31000\n",
      "Temperature                32.50000\n",
      "dtype: float64\n",
      "----------------------------------------------------------------------\n",
      "upper bounds are:\n",
      " Radiation                 895.51750\n",
      "Speed                      14.62000\n",
      "WindDirection(Degrees)    325.08375\n",
      "Pressure                   30.55000\n",
      "Temperature                68.50000\n",
      "dtype: float64\n"
     ]
    }
   ],
   "source": [
    "# Checking for outliers again\n",
    "\n",
    "num_cols_solar = solar[['Radiation','Speed','WindDirection(Degrees)','Pressure','Temperature']]\n",
    "Q1 = num_cols_solar.quantile(0.25)\n",
    "Q3 = num_cols_solar.quantile(0.75)\n",
    "IQR = Q3 - Q1\n",
    "lower_bound = Q1 - 1.5 * IQR\n",
    "upper_bound = Q3 + 1.5 * IQR\n",
    "\n",
    "print('lower bounds are:\\n',lower_bound)\n",
    "print('-'*70)\n",
    "print('upper bounds are:\\n',upper_bound)"
   ]
  },
  {
   "cell_type": "code",
   "execution_count": 153,
   "id": "110e97ae",
   "metadata": {
    "ExecuteTime": {
     "end_time": "2023-10-15T07:37:44.663966Z",
     "start_time": "2023-10-15T07:37:44.632009Z"
    }
   },
   "outputs": [
    {
     "name": "stdout",
     "output_type": "stream",
     "text": [
      "column is: Radiation\n",
      "min side outliers count is:\n",
      "0\n",
      "max side outliers count is:\n",
      "0\n",
      "----------------------------------------\n",
      "column is: Speed\n",
      "min side outliers count is:\n",
      "0\n",
      "max side outliers count is:\n",
      "0\n",
      "----------------------------------------\n",
      "column is: WindDirection(Degrees)\n",
      "min side outliers count is:\n",
      "0\n",
      "max side outliers count is:\n",
      "0\n",
      "----------------------------------------\n",
      "column is: Pressure\n",
      "min side outliers count is:\n",
      "0\n",
      "max side outliers count is:\n",
      "0\n",
      "----------------------------------------\n",
      "column is: Temperature\n",
      "min side outliers count is:\n",
      "0\n",
      "max side outliers count is:\n",
      "0\n",
      "----------------------------------------\n"
     ]
    }
   ],
   "source": [
    "# Checking the count of outliers\n",
    "\n",
    "for x in num_cols_solar.columns:\n",
    "    print('column is:',x)\n",
    "    print('min side outliers count is:')\n",
    "    print(solar[solar[x] < lower_bound[x]][x].count())\n",
    "    print('max side outliers count is:')\n",
    "    print(solar[solar[x] > upper_bound[x]][x].count())\n",
    "    print('-'*40)\n",
    "    \n",
    "# From observing below output, there are no outliers"
   ]
  },
  {
   "cell_type": "code",
   "execution_count": 727,
   "id": "657d2a23",
   "metadata": {
    "ExecuteTime": {
     "end_time": "2023-09-18T12:02:31.861813Z",
     "start_time": "2023-09-18T12:02:31.819943Z"
    }
   },
   "outputs": [
    {
     "data": {
      "text/html": [
       "<div>\n",
       "<style scoped>\n",
       "    .dataframe tbody tr th:only-of-type {\n",
       "        vertical-align: middle;\n",
       "    }\n",
       "\n",
       "    .dataframe tbody tr th {\n",
       "        vertical-align: top;\n",
       "    }\n",
       "\n",
       "    .dataframe thead th {\n",
       "        text-align: right;\n",
       "    }\n",
       "</style>\n",
       "<table border=\"1\" class=\"dataframe\">\n",
       "  <thead>\n",
       "    <tr style=\"text-align: right;\">\n",
       "      <th></th>\n",
       "      <th>Data</th>\n",
       "      <th>Time</th>\n",
       "      <th>Temperature</th>\n",
       "      <th>Pressure</th>\n",
       "      <th>Humidity</th>\n",
       "      <th>WindDirection(Degrees)</th>\n",
       "      <th>Speed</th>\n",
       "      <th>TimeSunRise</th>\n",
       "      <th>TimeSunSet</th>\n",
       "      <th>Radiation</th>\n",
       "    </tr>\n",
       "  </thead>\n",
       "  <tbody>\n",
       "    <tr>\n",
       "      <th>0</th>\n",
       "      <td>9/14/2016 12:00:00 AM</td>\n",
       "      <td>08:50:05</td>\n",
       "      <td>57.0</td>\n",
       "      <td>30.45</td>\n",
       "      <td>68</td>\n",
       "      <td>26.70</td>\n",
       "      <td>4.50</td>\n",
       "      <td>06:10:00</td>\n",
       "      <td>18:26:00</td>\n",
       "      <td>680.04</td>\n",
       "    </tr>\n",
       "    <tr>\n",
       "      <th>1</th>\n",
       "      <td>10/12/2016 12:00:00 AM</td>\n",
       "      <td>07:25:21</td>\n",
       "      <td>50.0</td>\n",
       "      <td>30.47</td>\n",
       "      <td>96</td>\n",
       "      <td>144.96</td>\n",
       "      <td>10.12</td>\n",
       "      <td>06:16:00</td>\n",
       "      <td>18:02:00</td>\n",
       "      <td>277.37</td>\n",
       "    </tr>\n",
       "    <tr>\n",
       "      <th>2</th>\n",
       "      <td>10/31/2016 12:00:00 AM</td>\n",
       "      <td>23:40:20</td>\n",
       "      <td>47.0</td>\n",
       "      <td>30.48</td>\n",
       "      <td>56</td>\n",
       "      <td>119.52</td>\n",
       "      <td>3.37</td>\n",
       "      <td>06:23:00</td>\n",
       "      <td>17:49:00</td>\n",
       "      <td>1.29</td>\n",
       "    </tr>\n",
       "    <tr>\n",
       "      <th>3</th>\n",
       "      <td>9/4/2016 12:00:00 AM</td>\n",
       "      <td>08:25:05</td>\n",
       "      <td>57.0</td>\n",
       "      <td>30.47</td>\n",
       "      <td>93</td>\n",
       "      <td>38.61</td>\n",
       "      <td>2.25</td>\n",
       "      <td>06:08:00</td>\n",
       "      <td>18:35:00</td>\n",
       "      <td>544.75</td>\n",
       "    </tr>\n",
       "    <tr>\n",
       "      <th>4</th>\n",
       "      <td>12/16/2016 12:00:00 AM</td>\n",
       "      <td>00:50:34</td>\n",
       "      <td>41.0</td>\n",
       "      <td>30.31</td>\n",
       "      <td>103</td>\n",
       "      <td>177.55</td>\n",
       "      <td>2.25</td>\n",
       "      <td>06:50:00</td>\n",
       "      <td>17:46:00</td>\n",
       "      <td>1.22</td>\n",
       "    </tr>\n",
       "  </tbody>\n",
       "</table>\n",
       "</div>"
      ],
      "text/plain": [
       "                     Data      Time  Temperature  Pressure  Humidity  \\\n",
       "0   9/14/2016 12:00:00 AM  08:50:05         57.0     30.45        68   \n",
       "1  10/12/2016 12:00:00 AM  07:25:21         50.0     30.47        96   \n",
       "2  10/31/2016 12:00:00 AM  23:40:20         47.0     30.48        56   \n",
       "3    9/4/2016 12:00:00 AM  08:25:05         57.0     30.47        93   \n",
       "4  12/16/2016 12:00:00 AM  00:50:34         41.0     30.31       103   \n",
       "\n",
       "   WindDirection(Degrees)  Speed TimeSunRise TimeSunSet  Radiation  \n",
       "0                   26.70   4.50    06:10:00   18:26:00     680.04  \n",
       "1                  144.96  10.12    06:16:00   18:02:00     277.37  \n",
       "2                  119.52   3.37    06:23:00   17:49:00       1.29  \n",
       "3                   38.61   2.25    06:08:00   18:35:00     544.75  \n",
       "4                  177.55   2.25    06:50:00   17:46:00       1.22  "
      ]
     },
     "execution_count": 727,
     "metadata": {},
     "output_type": "execute_result"
    }
   ],
   "source": [
    "solar.head()"
   ]
  },
  {
   "cell_type": "code",
   "execution_count": 154,
   "id": "86b95cd6",
   "metadata": {
    "ExecuteTime": {
     "end_time": "2023-10-15T07:37:44.695923Z",
     "start_time": "2023-10-15T07:37:44.663966Z"
    }
   },
   "outputs": [
    {
     "data": {
      "text/html": [
       "<div>\n",
       "<style scoped>\n",
       "    .dataframe tbody tr th:only-of-type {\n",
       "        vertical-align: middle;\n",
       "    }\n",
       "\n",
       "    .dataframe tbody tr th {\n",
       "        vertical-align: top;\n",
       "    }\n",
       "\n",
       "    .dataframe thead th {\n",
       "        text-align: right;\n",
       "    }\n",
       "</style>\n",
       "<table border=\"1\" class=\"dataframe\">\n",
       "  <thead>\n",
       "    <tr style=\"text-align: right;\">\n",
       "      <th></th>\n",
       "      <th>Data</th>\n",
       "      <th>Time</th>\n",
       "      <th>Temperature</th>\n",
       "      <th>Pressure</th>\n",
       "      <th>Humidity</th>\n",
       "      <th>WindDirection(Degrees)</th>\n",
       "      <th>Speed</th>\n",
       "      <th>TimeSunRise</th>\n",
       "      <th>TimeSunSet</th>\n",
       "      <th>Radiation</th>\n",
       "    </tr>\n",
       "  </thead>\n",
       "  <tbody>\n",
       "    <tr>\n",
       "      <th>0</th>\n",
       "      <td>9/14/2016 12:00:00 AM</td>\n",
       "      <td>08:50:05</td>\n",
       "      <td>57.0</td>\n",
       "      <td>30.45</td>\n",
       "      <td>68</td>\n",
       "      <td>26.70</td>\n",
       "      <td>4.50</td>\n",
       "      <td>06:10:00</td>\n",
       "      <td>18:26:00</td>\n",
       "      <td>680.04</td>\n",
       "    </tr>\n",
       "    <tr>\n",
       "      <th>1</th>\n",
       "      <td>10/12/2016 12:00:00 AM</td>\n",
       "      <td>07:25:21</td>\n",
       "      <td>50.0</td>\n",
       "      <td>30.47</td>\n",
       "      <td>96</td>\n",
       "      <td>144.96</td>\n",
       "      <td>10.12</td>\n",
       "      <td>06:16:00</td>\n",
       "      <td>18:02:00</td>\n",
       "      <td>277.37</td>\n",
       "    </tr>\n",
       "    <tr>\n",
       "      <th>2</th>\n",
       "      <td>10/31/2016 12:00:00 AM</td>\n",
       "      <td>23:40:20</td>\n",
       "      <td>47.0</td>\n",
       "      <td>30.48</td>\n",
       "      <td>56</td>\n",
       "      <td>119.52</td>\n",
       "      <td>3.37</td>\n",
       "      <td>06:23:00</td>\n",
       "      <td>17:49:00</td>\n",
       "      <td>1.29</td>\n",
       "    </tr>\n",
       "    <tr>\n",
       "      <th>3</th>\n",
       "      <td>9/4/2016 12:00:00 AM</td>\n",
       "      <td>08:25:05</td>\n",
       "      <td>57.0</td>\n",
       "      <td>30.47</td>\n",
       "      <td>93</td>\n",
       "      <td>38.61</td>\n",
       "      <td>2.25</td>\n",
       "      <td>06:08:00</td>\n",
       "      <td>18:35:00</td>\n",
       "      <td>544.75</td>\n",
       "    </tr>\n",
       "    <tr>\n",
       "      <th>4</th>\n",
       "      <td>12/16/2016 12:00:00 AM</td>\n",
       "      <td>00:50:34</td>\n",
       "      <td>41.0</td>\n",
       "      <td>30.31</td>\n",
       "      <td>103</td>\n",
       "      <td>177.55</td>\n",
       "      <td>2.25</td>\n",
       "      <td>06:50:00</td>\n",
       "      <td>17:46:00</td>\n",
       "      <td>1.22</td>\n",
       "    </tr>\n",
       "  </tbody>\n",
       "</table>\n",
       "</div>"
      ],
      "text/plain": [
       "                     Data      Time  Temperature  Pressure  Humidity  \\\n",
       "0   9/14/2016 12:00:00 AM  08:50:05         57.0     30.45        68   \n",
       "1  10/12/2016 12:00:00 AM  07:25:21         50.0     30.47        96   \n",
       "2  10/31/2016 12:00:00 AM  23:40:20         47.0     30.48        56   \n",
       "3    9/4/2016 12:00:00 AM  08:25:05         57.0     30.47        93   \n",
       "4  12/16/2016 12:00:00 AM  00:50:34         41.0     30.31       103   \n",
       "\n",
       "   WindDirection(Degrees)  Speed TimeSunRise TimeSunSet  Radiation  \n",
       "0                   26.70   4.50    06:10:00   18:26:00     680.04  \n",
       "1                  144.96  10.12    06:16:00   18:02:00     277.37  \n",
       "2                  119.52   3.37    06:23:00   17:49:00       1.29  \n",
       "3                   38.61   2.25    06:08:00   18:35:00     544.75  \n",
       "4                  177.55   2.25    06:50:00   17:46:00       1.22  "
      ]
     },
     "execution_count": 154,
     "metadata": {},
     "output_type": "execute_result"
    }
   ],
   "source": [
    "solar.head()"
   ]
  },
  {
   "cell_type": "code",
   "execution_count": 155,
   "id": "658d8f2f",
   "metadata": {
    "ExecuteTime": {
     "end_time": "2023-10-15T07:37:44.759843Z",
     "start_time": "2023-10-15T07:37:44.695923Z"
    }
   },
   "outputs": [],
   "source": [
    "# Splitting data column to date and time\n",
    "\n",
    "solar[['Date','12','AM']] = solar['Data'].str.split(' ',expand=True)\n",
    "solar.drop(columns=['12','AM'],inplace=True)"
   ]
  },
  {
   "cell_type": "code",
   "execution_count": 156,
   "id": "750f8bab",
   "metadata": {
    "ExecuteTime": {
     "end_time": "2023-10-15T07:37:44.776047Z",
     "start_time": "2023-10-15T07:37:44.759843Z"
    }
   },
   "outputs": [],
   "source": [
    "# Dropping Data column\n",
    "\n",
    "solar.drop(columns=['Data'],inplace=True)"
   ]
  },
  {
   "cell_type": "code",
   "execution_count": 50,
   "id": "943ca16c",
   "metadata": {
    "ExecuteTime": {
     "end_time": "2023-10-15T06:45:22.693535Z",
     "start_time": "2023-10-15T06:45:22.670598Z"
    }
   },
   "outputs": [
    {
     "data": {
      "text/html": [
       "<div>\n",
       "<style scoped>\n",
       "    .dataframe tbody tr th:only-of-type {\n",
       "        vertical-align: middle;\n",
       "    }\n",
       "\n",
       "    .dataframe tbody tr th {\n",
       "        vertical-align: top;\n",
       "    }\n",
       "\n",
       "    .dataframe thead th {\n",
       "        text-align: right;\n",
       "    }\n",
       "</style>\n",
       "<table border=\"1\" class=\"dataframe\">\n",
       "  <thead>\n",
       "    <tr style=\"text-align: right;\">\n",
       "      <th></th>\n",
       "      <th>Data</th>\n",
       "      <th>Time</th>\n",
       "      <th>Temperature</th>\n",
       "      <th>Pressure</th>\n",
       "      <th>Humidity</th>\n",
       "      <th>WindDirection(Degrees)</th>\n",
       "      <th>Speed</th>\n",
       "      <th>TimeSunRise</th>\n",
       "      <th>TimeSunSet</th>\n",
       "      <th>Radiation</th>\n",
       "      <th>Date</th>\n",
       "    </tr>\n",
       "  </thead>\n",
       "  <tbody>\n",
       "    <tr>\n",
       "      <th>0</th>\n",
       "      <td>9/14/2016 12:00:00 AM</td>\n",
       "      <td>08:50:05</td>\n",
       "      <td>57.0</td>\n",
       "      <td>30.45</td>\n",
       "      <td>68</td>\n",
       "      <td>26.70</td>\n",
       "      <td>4.50</td>\n",
       "      <td>06:10:00</td>\n",
       "      <td>18:26:00</td>\n",
       "      <td>680.04</td>\n",
       "      <td>9/14/2016</td>\n",
       "    </tr>\n",
       "    <tr>\n",
       "      <th>1</th>\n",
       "      <td>10/12/2016 12:00:00 AM</td>\n",
       "      <td>07:25:21</td>\n",
       "      <td>50.0</td>\n",
       "      <td>30.47</td>\n",
       "      <td>96</td>\n",
       "      <td>144.96</td>\n",
       "      <td>10.12</td>\n",
       "      <td>06:16:00</td>\n",
       "      <td>18:02:00</td>\n",
       "      <td>277.37</td>\n",
       "      <td>10/12/2016</td>\n",
       "    </tr>\n",
       "    <tr>\n",
       "      <th>2</th>\n",
       "      <td>10/31/2016 12:00:00 AM</td>\n",
       "      <td>23:40:20</td>\n",
       "      <td>47.0</td>\n",
       "      <td>30.48</td>\n",
       "      <td>56</td>\n",
       "      <td>119.52</td>\n",
       "      <td>3.37</td>\n",
       "      <td>06:23:00</td>\n",
       "      <td>17:49:00</td>\n",
       "      <td>1.29</td>\n",
       "      <td>10/31/2016</td>\n",
       "    </tr>\n",
       "    <tr>\n",
       "      <th>3</th>\n",
       "      <td>9/4/2016 12:00:00 AM</td>\n",
       "      <td>08:25:05</td>\n",
       "      <td>57.0</td>\n",
       "      <td>30.47</td>\n",
       "      <td>93</td>\n",
       "      <td>38.61</td>\n",
       "      <td>2.25</td>\n",
       "      <td>06:08:00</td>\n",
       "      <td>18:35:00</td>\n",
       "      <td>544.75</td>\n",
       "      <td>9/4/2016</td>\n",
       "    </tr>\n",
       "    <tr>\n",
       "      <th>4</th>\n",
       "      <td>12/16/2016 12:00:00 AM</td>\n",
       "      <td>00:50:34</td>\n",
       "      <td>41.0</td>\n",
       "      <td>30.31</td>\n",
       "      <td>103</td>\n",
       "      <td>177.55</td>\n",
       "      <td>2.25</td>\n",
       "      <td>06:50:00</td>\n",
       "      <td>17:46:00</td>\n",
       "      <td>1.22</td>\n",
       "      <td>12/16/2016</td>\n",
       "    </tr>\n",
       "  </tbody>\n",
       "</table>\n",
       "</div>"
      ],
      "text/plain": [
       "                     Data      Time  Temperature  Pressure  Humidity  \\\n",
       "0   9/14/2016 12:00:00 AM  08:50:05         57.0     30.45        68   \n",
       "1  10/12/2016 12:00:00 AM  07:25:21         50.0     30.47        96   \n",
       "2  10/31/2016 12:00:00 AM  23:40:20         47.0     30.48        56   \n",
       "3    9/4/2016 12:00:00 AM  08:25:05         57.0     30.47        93   \n",
       "4  12/16/2016 12:00:00 AM  00:50:34         41.0     30.31       103   \n",
       "\n",
       "   WindDirection(Degrees)  Speed TimeSunRise TimeSunSet  Radiation        Date  \n",
       "0                   26.70   4.50    06:10:00   18:26:00     680.04   9/14/2016  \n",
       "1                  144.96  10.12    06:16:00   18:02:00     277.37  10/12/2016  \n",
       "2                  119.52   3.37    06:23:00   17:49:00       1.29  10/31/2016  \n",
       "3                   38.61   2.25    06:08:00   18:35:00     544.75    9/4/2016  \n",
       "4                  177.55   2.25    06:50:00   17:46:00       1.22  12/16/2016  "
      ]
     },
     "execution_count": 50,
     "metadata": {},
     "output_type": "execute_result"
    }
   ],
   "source": [
    "solar.head()"
   ]
  },
  {
   "cell_type": "code",
   "execution_count": 53,
   "id": "25781d5e",
   "metadata": {
    "ExecuteTime": {
     "end_time": "2023-10-15T06:45:49.400489Z",
     "start_time": "2023-10-15T06:45:49.385529Z"
    }
   },
   "outputs": [
    {
     "data": {
      "text/html": [
       "<div>\n",
       "<style scoped>\n",
       "    .dataframe tbody tr th:only-of-type {\n",
       "        vertical-align: middle;\n",
       "    }\n",
       "\n",
       "    .dataframe tbody tr th {\n",
       "        vertical-align: top;\n",
       "    }\n",
       "\n",
       "    .dataframe thead th {\n",
       "        text-align: right;\n",
       "    }\n",
       "</style>\n",
       "<table border=\"1\" class=\"dataframe\">\n",
       "  <thead>\n",
       "    <tr style=\"text-align: right;\">\n",
       "      <th></th>\n",
       "      <th>Time</th>\n",
       "      <th>Temperature</th>\n",
       "      <th>Pressure</th>\n",
       "      <th>Humidity</th>\n",
       "      <th>WindDirection(Degrees)</th>\n",
       "      <th>Speed</th>\n",
       "      <th>TimeSunRise</th>\n",
       "      <th>TimeSunSet</th>\n",
       "      <th>Radiation</th>\n",
       "      <th>Date</th>\n",
       "    </tr>\n",
       "  </thead>\n",
       "  <tbody>\n",
       "    <tr>\n",
       "      <th>0</th>\n",
       "      <td>08:50:05</td>\n",
       "      <td>57.0</td>\n",
       "      <td>30.45</td>\n",
       "      <td>68</td>\n",
       "      <td>26.70</td>\n",
       "      <td>4.50</td>\n",
       "      <td>06:10:00</td>\n",
       "      <td>18:26:00</td>\n",
       "      <td>680.04</td>\n",
       "      <td>9/14/2016</td>\n",
       "    </tr>\n",
       "    <tr>\n",
       "      <th>1</th>\n",
       "      <td>07:25:21</td>\n",
       "      <td>50.0</td>\n",
       "      <td>30.47</td>\n",
       "      <td>96</td>\n",
       "      <td>144.96</td>\n",
       "      <td>10.12</td>\n",
       "      <td>06:16:00</td>\n",
       "      <td>18:02:00</td>\n",
       "      <td>277.37</td>\n",
       "      <td>10/12/2016</td>\n",
       "    </tr>\n",
       "    <tr>\n",
       "      <th>2</th>\n",
       "      <td>23:40:20</td>\n",
       "      <td>47.0</td>\n",
       "      <td>30.48</td>\n",
       "      <td>56</td>\n",
       "      <td>119.52</td>\n",
       "      <td>3.37</td>\n",
       "      <td>06:23:00</td>\n",
       "      <td>17:49:00</td>\n",
       "      <td>1.29</td>\n",
       "      <td>10/31/2016</td>\n",
       "    </tr>\n",
       "    <tr>\n",
       "      <th>3</th>\n",
       "      <td>08:25:05</td>\n",
       "      <td>57.0</td>\n",
       "      <td>30.47</td>\n",
       "      <td>93</td>\n",
       "      <td>38.61</td>\n",
       "      <td>2.25</td>\n",
       "      <td>06:08:00</td>\n",
       "      <td>18:35:00</td>\n",
       "      <td>544.75</td>\n",
       "      <td>9/4/2016</td>\n",
       "    </tr>\n",
       "    <tr>\n",
       "      <th>4</th>\n",
       "      <td>00:50:34</td>\n",
       "      <td>41.0</td>\n",
       "      <td>30.31</td>\n",
       "      <td>103</td>\n",
       "      <td>177.55</td>\n",
       "      <td>2.25</td>\n",
       "      <td>06:50:00</td>\n",
       "      <td>17:46:00</td>\n",
       "      <td>1.22</td>\n",
       "      <td>12/16/2016</td>\n",
       "    </tr>\n",
       "  </tbody>\n",
       "</table>\n",
       "</div>"
      ],
      "text/plain": [
       "       Time  Temperature  Pressure  Humidity  WindDirection(Degrees)  Speed  \\\n",
       "0  08:50:05         57.0     30.45        68                   26.70   4.50   \n",
       "1  07:25:21         50.0     30.47        96                  144.96  10.12   \n",
       "2  23:40:20         47.0     30.48        56                  119.52   3.37   \n",
       "3  08:25:05         57.0     30.47        93                   38.61   2.25   \n",
       "4  00:50:34         41.0     30.31       103                  177.55   2.25   \n",
       "\n",
       "  TimeSunRise TimeSunSet  Radiation        Date  \n",
       "0    06:10:00   18:26:00     680.04   9/14/2016  \n",
       "1    06:16:00   18:02:00     277.37  10/12/2016  \n",
       "2    06:23:00   17:49:00       1.29  10/31/2016  \n",
       "3    06:08:00   18:35:00     544.75    9/4/2016  \n",
       "4    06:50:00   17:46:00       1.22  12/16/2016  "
      ]
     },
     "execution_count": 53,
     "metadata": {},
     "output_type": "execute_result"
    }
   ],
   "source": [
    "solar.head()"
   ]
  },
  {
   "cell_type": "code",
   "execution_count": 157,
   "id": "598dbec3",
   "metadata": {
    "ExecuteTime": {
     "end_time": "2023-10-15T07:37:44.807786Z",
     "start_time": "2023-10-15T07:37:44.776047Z"
    }
   },
   "outputs": [
    {
     "name": "stdout",
     "output_type": "stream",
     "text": [
      "<class 'pandas.core.frame.DataFrame'>\n",
      "RangeIndex: 26148 entries, 0 to 26147\n",
      "Data columns (total 10 columns):\n",
      " #   Column                  Non-Null Count  Dtype  \n",
      "---  ------                  --------------  -----  \n",
      " 0   Time                    26148 non-null  object \n",
      " 1   Temperature             26148 non-null  float64\n",
      " 2   Pressure                26148 non-null  float64\n",
      " 3   Humidity                26148 non-null  int64  \n",
      " 4   WindDirection(Degrees)  26148 non-null  float64\n",
      " 5   Speed                   26148 non-null  float64\n",
      " 6   TimeSunRise             26148 non-null  object \n",
      " 7   TimeSunSet              26148 non-null  object \n",
      " 8   Radiation               26148 non-null  float64\n",
      " 9   Date                    26148 non-null  object \n",
      "dtypes: float64(5), int64(1), object(4)\n",
      "memory usage: 2.0+ MB\n"
     ]
    }
   ],
   "source": [
    "solar.info()\n",
    "# Data type of column Date, Time has to be changed"
   ]
  },
  {
   "cell_type": "code",
   "execution_count": 158,
   "id": "e159b974",
   "metadata": {
    "ExecuteTime": {
     "end_time": "2023-10-15T07:37:44.839958Z",
     "start_time": "2023-10-15T07:37:44.807786Z"
    }
   },
   "outputs": [],
   "source": [
    "# Changing Date to date time data type\n",
    "\n",
    "solar['Date'] = pd.to_datetime(solar['Date'])"
   ]
  },
  {
   "cell_type": "code",
   "execution_count": 159,
   "id": "8887948c",
   "metadata": {
    "ExecuteTime": {
     "end_time": "2023-10-15T07:37:44.947862Z",
     "start_time": "2023-10-15T07:37:44.839958Z"
    }
   },
   "outputs": [],
   "source": [
    "# Changing Time, TimeSunRise and TimeSunSet to date time format\n",
    "\n",
    "solar['Time'] = pd.to_datetime(solar['Time'], format='%H:%M:%S').dt.time\n",
    "solar['TimeSunRise'] = pd.to_datetime(solar['TimeSunRise'], format='%H:%M:%S').dt.time\n",
    "solar['TimeSunSet'] = pd.to_datetime(solar['TimeSunSet'], format='%H:%M:%S').dt.time"
   ]
  },
  {
   "cell_type": "code",
   "execution_count": 57,
   "id": "c81c20c0",
   "metadata": {
    "ExecuteTime": {
     "end_time": "2023-10-15T06:46:13.758747Z",
     "start_time": "2023-10-15T06:46:13.734745Z"
    }
   },
   "outputs": [
    {
     "data": {
      "text/html": [
       "<div>\n",
       "<style scoped>\n",
       "    .dataframe tbody tr th:only-of-type {\n",
       "        vertical-align: middle;\n",
       "    }\n",
       "\n",
       "    .dataframe tbody tr th {\n",
       "        vertical-align: top;\n",
       "    }\n",
       "\n",
       "    .dataframe thead th {\n",
       "        text-align: right;\n",
       "    }\n",
       "</style>\n",
       "<table border=\"1\" class=\"dataframe\">\n",
       "  <thead>\n",
       "    <tr style=\"text-align: right;\">\n",
       "      <th></th>\n",
       "      <th>Time</th>\n",
       "      <th>Temperature</th>\n",
       "      <th>Pressure</th>\n",
       "      <th>Humidity</th>\n",
       "      <th>WindDirection(Degrees)</th>\n",
       "      <th>Speed</th>\n",
       "      <th>TimeSunRise</th>\n",
       "      <th>TimeSunSet</th>\n",
       "      <th>Radiation</th>\n",
       "      <th>Date</th>\n",
       "    </tr>\n",
       "  </thead>\n",
       "  <tbody>\n",
       "    <tr>\n",
       "      <th>0</th>\n",
       "      <td>08:50:05</td>\n",
       "      <td>57.0</td>\n",
       "      <td>30.45</td>\n",
       "      <td>68</td>\n",
       "      <td>26.70</td>\n",
       "      <td>4.50</td>\n",
       "      <td>06:10:00</td>\n",
       "      <td>18:26:00</td>\n",
       "      <td>680.04</td>\n",
       "      <td>2016-09-14</td>\n",
       "    </tr>\n",
       "    <tr>\n",
       "      <th>1</th>\n",
       "      <td>07:25:21</td>\n",
       "      <td>50.0</td>\n",
       "      <td>30.47</td>\n",
       "      <td>96</td>\n",
       "      <td>144.96</td>\n",
       "      <td>10.12</td>\n",
       "      <td>06:16:00</td>\n",
       "      <td>18:02:00</td>\n",
       "      <td>277.37</td>\n",
       "      <td>2016-10-12</td>\n",
       "    </tr>\n",
       "    <tr>\n",
       "      <th>2</th>\n",
       "      <td>23:40:20</td>\n",
       "      <td>47.0</td>\n",
       "      <td>30.48</td>\n",
       "      <td>56</td>\n",
       "      <td>119.52</td>\n",
       "      <td>3.37</td>\n",
       "      <td>06:23:00</td>\n",
       "      <td>17:49:00</td>\n",
       "      <td>1.29</td>\n",
       "      <td>2016-10-31</td>\n",
       "    </tr>\n",
       "    <tr>\n",
       "      <th>3</th>\n",
       "      <td>08:25:05</td>\n",
       "      <td>57.0</td>\n",
       "      <td>30.47</td>\n",
       "      <td>93</td>\n",
       "      <td>38.61</td>\n",
       "      <td>2.25</td>\n",
       "      <td>06:08:00</td>\n",
       "      <td>18:35:00</td>\n",
       "      <td>544.75</td>\n",
       "      <td>2016-09-04</td>\n",
       "    </tr>\n",
       "    <tr>\n",
       "      <th>4</th>\n",
       "      <td>00:50:34</td>\n",
       "      <td>41.0</td>\n",
       "      <td>30.31</td>\n",
       "      <td>103</td>\n",
       "      <td>177.55</td>\n",
       "      <td>2.25</td>\n",
       "      <td>06:50:00</td>\n",
       "      <td>17:46:00</td>\n",
       "      <td>1.22</td>\n",
       "      <td>2016-12-16</td>\n",
       "    </tr>\n",
       "  </tbody>\n",
       "</table>\n",
       "</div>"
      ],
      "text/plain": [
       "       Time  Temperature  Pressure  Humidity  WindDirection(Degrees)  Speed  \\\n",
       "0  08:50:05         57.0     30.45        68                   26.70   4.50   \n",
       "1  07:25:21         50.0     30.47        96                  144.96  10.12   \n",
       "2  23:40:20         47.0     30.48        56                  119.52   3.37   \n",
       "3  08:25:05         57.0     30.47        93                   38.61   2.25   \n",
       "4  00:50:34         41.0     30.31       103                  177.55   2.25   \n",
       "\n",
       "  TimeSunRise TimeSunSet  Radiation       Date  \n",
       "0    06:10:00   18:26:00     680.04 2016-09-14  \n",
       "1    06:16:00   18:02:00     277.37 2016-10-12  \n",
       "2    06:23:00   17:49:00       1.29 2016-10-31  \n",
       "3    06:08:00   18:35:00     544.75 2016-09-04  \n",
       "4    06:50:00   17:46:00       1.22 2016-12-16  "
      ]
     },
     "execution_count": 57,
     "metadata": {},
     "output_type": "execute_result"
    }
   ],
   "source": [
    "solar.head()"
   ]
  },
  {
   "cell_type": "code",
   "execution_count": 734,
   "id": "7b1dc8cb",
   "metadata": {
    "ExecuteTime": {
     "end_time": "2023-09-18T12:02:32.346146Z",
     "start_time": "2023-09-18T12:02:32.304265Z"
    }
   },
   "outputs": [
    {
     "name": "stdout",
     "output_type": "stream",
     "text": [
      "<class 'pandas.core.frame.DataFrame'>\n",
      "RangeIndex: 26148 entries, 0 to 26147\n",
      "Data columns (total 10 columns):\n",
      " #   Column                  Non-Null Count  Dtype         \n",
      "---  ------                  --------------  -----         \n",
      " 0   Data                    26148 non-null  datetime64[ns]\n",
      " 1   Time                    26148 non-null  object        \n",
      " 2   Temperature             26148 non-null  float64       \n",
      " 3   Pressure                26148 non-null  float64       \n",
      " 4   Humidity                26148 non-null  int64         \n",
      " 5   WindDirection(Degrees)  26148 non-null  float64       \n",
      " 6   Speed                   26148 non-null  float64       \n",
      " 7   TimeSunRise             26148 non-null  object        \n",
      " 8   TimeSunSet              26148 non-null  object        \n",
      " 9   Radiation               26148 non-null  float64       \n",
      "dtypes: datetime64[ns](1), float64(5), int64(1), object(3)\n",
      "memory usage: 2.0+ MB\n"
     ]
    }
   ],
   "source": [
    "solar.info()"
   ]
  },
  {
   "cell_type": "code",
   "execution_count": 160,
   "id": "08d3bdd8",
   "metadata": {
    "ExecuteTime": {
     "end_time": "2023-10-15T07:37:45.267160Z",
     "start_time": "2023-10-15T07:37:44.947862Z"
    }
   },
   "outputs": [
    {
     "data": {
      "image/png": "[encoded data removed]",
      "text/plain": [
       "<Figure size 432x288 with 2 Axes>"
      ]
     },
     "metadata": {
      "needs_background": "light"
     },
     "output_type": "display_data"
    }
   ],
   "source": [
    "solar_corr = sns.heatmap(solar.corr(),annot=True,cmap =\"YlGnBu\",linewidths = 0.1)\n",
    "\n",
    "# Correlation between any of the independent variables is not high."
   ]
  },
  {
   "cell_type": "markdown",
   "id": "c9dc468f",
   "metadata": {},
   "source": [
    "### EDA"
   ]
  },
  {
   "cell_type": "code",
   "execution_count": 161,
   "id": "c8ccb2b9",
   "metadata": {
    "ExecuteTime": {
     "end_time": "2023-10-15T07:37:45.466896Z",
     "start_time": "2023-10-15T07:37:45.267160Z"
    },
    "scrolled": true
   },
   "outputs": [
    {
     "data": {
      "image/png": "[encoded data removed]",
      "text/plain": [
       "<Figure size 1080x360 with 1 Axes>"
      ]
     },
     "metadata": {
      "needs_background": "light"
     },
     "output_type": "display_data"
    }
   ],
   "source": [
    "# Check variation of average radiation with the dates\n",
    "\n",
    "plt.figure(figsize=(15,5))\n",
    "time_radiation = solar.groupby(by='Date')['Radiation'].mean()\n",
    "time_radiation.plot(kind = 'line')\n",
    "plt.xlabel('Dates')\n",
    "plt.ylabel('Radiation Average')\n",
    "plt.title('AVERAGE RADIATION')\n",
    "plt.show()"
   ]
  },
  {
   "cell_type": "code",
   "execution_count": 162,
   "id": "cd9a89d6",
   "metadata": {
    "ExecuteTime": {
     "end_time": "2023-10-15T07:37:45.606979Z",
     "start_time": "2023-10-15T07:37:45.466896Z"
    }
   },
   "outputs": [
    {
     "data": {
      "image/png": "[encoded data removed]",
      "text/plain": [
       "<Figure size 1080x360 with 1 Axes>"
      ]
     },
     "metadata": {
      "needs_background": "light"
     },
     "output_type": "display_data"
    }
   ],
   "source": [
    "# How is temperature varying with Radiation?\n",
    "\n",
    "plt.figure(figsize=(15,5))\n",
    "temp_radiation = solar.groupby(by='Temperature')['Radiation'].mean()\n",
    "temp_radiation.plot(kind = 'line')\n",
    "plt.xlabel('Temperature')\n",
    "plt.ylabel('Average Radiation')\n",
    "plt.title('AVERAGE RADIATION VS TEMPERATURE')\n",
    "plt.show()\n",
    "\n",
    "# As the temperature increases, the radiation value also increases. Till 8 degrees, the radiation is almost constant."
   ]
  },
  {
   "cell_type": "code",
   "execution_count": 163,
   "id": "689e4c0a",
   "metadata": {
    "ExecuteTime": {
     "end_time": "2023-10-15T07:37:45.730542Z",
     "start_time": "2023-10-15T07:37:45.610705Z"
    }
   },
   "outputs": [
    {
     "data": {
      "image/png": "[encoded data removed]",
      "text/plain": [
       "<Figure size 1080x360 with 1 Axes>"
      ]
     },
     "metadata": {
      "needs_background": "light"
     },
     "output_type": "display_data"
    }
   ],
   "source": [
    "# How is humidity varying with Radiation?\n",
    "\n",
    "plt.figure(figsize=(15,5))\n",
    "pressure_radiation = solar.groupby(by='Humidity')['Radiation'].mean()\n",
    "pressure_radiation.plot(kind = 'line',color = '#eb3434')\n",
    "plt.xlabel('Humidity')\n",
    "plt.ylabel('Average Radiation')\n",
    "plt.title('AVERAGE RADIATION VS HUMIDITY')\n",
    "plt.show()\n",
    "\n",
    "# As the humidity increases, the radiation value decreases\n"
   ]
  },
  {
   "cell_type": "code",
   "execution_count": 164,
   "id": "182db658",
   "metadata": {
    "ExecuteTime": {
     "end_time": "2023-10-15T07:37:45.902340Z",
     "start_time": "2023-10-15T07:37:45.730542Z"
    }
   },
   "outputs": [
    {
     "data": {
      "image/png": "[encoded data removed]",
      "text/plain": [
       "<Figure size 720x720 with 1 Axes>"
      ]
     },
     "metadata": {
      "needs_background": "light"
     },
     "output_type": "display_data"
    }
   ],
   "source": [
    "# How does radiation vary from the time of measurement\n",
    "\n",
    "plt.figure(figsize=(10,10))\n",
    "radiation_sunrise = solar.groupby(by='Time')['Radiation'].mean()\n",
    "radiation_sunrise.plot(kind = 'line',color = '#dbeb34')\n",
    "plt.xlabel('Time of measurement')\n",
    "plt.ylabel('Average Radiation')\n",
    "plt.title('AVERAGE RADIATION VS TIME OF MEASUREMENT')\n",
    "plt.show()\n",
    "\n",
    "# Highest generation is observed during the time 10 AM and 3 PM. \n",
    "# The generation starts from around 6 AM in the morning and ends around 6.30 PM"
   ]
  },
  {
   "cell_type": "code",
   "execution_count": 165,
   "id": "999d4349",
   "metadata": {
    "ExecuteTime": {
     "end_time": "2023-10-15T07:37:46.010468Z",
     "start_time": "2023-10-15T07:37:45.902340Z"
    }
   },
   "outputs": [
    {
     "data": {
      "image/png": "[encoded data removed]",
      "text/plain": [
       "<Figure size 432x288 with 1 Axes>"
      ]
     },
     "metadata": {
      "needs_background": "light"
     },
     "output_type": "display_data"
    }
   ],
   "source": [
    "# What is the average radiation observed in each month\n",
    "\n",
    "month_radiation = solar.groupby(solar['Date'].dt.month)['Radiation'].mean()\n",
    "month_radiation.plot(kind = 'bar',color='#d10f18')\n",
    "plt.xlabel('Month')\n",
    "plt.ylabel('Average Radiation')\n",
    "plt.title('AVERAGE RADIATION IN EACH MONTH')\n",
    "plt.xticks(rotation = 0)\n",
    "plt.show()\n",
    "\n",
    "# Average Radiation drops significantly in the month of december "
   ]
  },
  {
   "cell_type": "code",
   "execution_count": 166,
   "id": "fac657b5",
   "metadata": {
    "ExecuteTime": {
     "end_time": "2023-10-15T07:37:46.150011Z",
     "start_time": "2023-10-15T07:37:46.010468Z"
    }
   },
   "outputs": [
    {
     "data": {
      "image/png": "[encoded data removed]",
      "text/plain": [
       "<Figure size 720x360 with 1 Axes>"
      ]
     },
     "metadata": {
      "needs_background": "light"
     },
     "output_type": "display_data"
    }
   ],
   "source": [
    "# How does Radiation vary with the wind speed?\n",
    "\n",
    "plt.figure(figsize=(10,5))\n",
    "radiation_sunrise = solar.groupby(by='Speed')['Radiation'].mean()\n",
    "radiation_sunrise.plot(kind = 'line',color = '#dbeb34')\n",
    "plt.xlabel('Wind speed')\n",
    "plt.ylabel('Average Radiation')\n",
    "plt.title('AVERAGE RADIATION VS WIND SPEED')\n",
    "plt.show()\n",
    "\n",
    "# As the wind speed increases, the average radiation also increases"
   ]
  },
  {
   "cell_type": "code",
   "execution_count": 167,
   "id": "caf1853b",
   "metadata": {
    "ExecuteTime": {
     "end_time": "2023-10-15T07:37:46.162210Z",
     "start_time": "2023-10-15T07:37:46.150011Z"
    }
   },
   "outputs": [],
   "source": [
    "y_main_solar = solar['Radiation']\n",
    "x_main_solar = solar.copy()"
   ]
  },
  {
   "cell_type": "code",
   "execution_count": 168,
   "id": "fab482df",
   "metadata": {
    "ExecuteTime": {
     "end_time": "2023-10-15T07:37:46.178173Z",
     "start_time": "2023-10-15T07:37:46.162210Z"
    }
   },
   "outputs": [],
   "source": [
    "solar.drop(columns=['Radiation','Date','Time','TimeSunRise','TimeSunSet'],inplace=True,axis=1)"
   ]
  },
  {
   "cell_type": "code",
   "execution_count": 170,
   "id": "370754c7",
   "metadata": {
    "ExecuteTime": {
     "end_time": "2023-10-15T07:37:58.189715Z",
     "start_time": "2023-10-15T07:37:58.161183Z"
    }
   },
   "outputs": [
    {
     "name": "stderr",
     "output_type": "stream",
     "text": [
      "C:\\MyDrive\\Term1\\lib\\site-packages\\pandas\\core\\frame.py:4906: SettingWithCopyWarning: \n",
      "A value is trying to be set on a copy of a slice from a DataFrame\n",
      "\n",
      "See the caveats in the documentation: https://pandas.pydata.org/pandas-docs/stable/user_guide/indexing.html#returning-a-view-versus-a-copy\n",
      "  return super().drop(\n"
     ]
    }
   ],
   "source": [
    "X_main_solar_num = x_main_solar.select_dtypes(include='number')\n",
    "X_main_solar_num.drop('Radiation',inplace=True,axis=1)\n",
    "ss=MinMaxScaler()\n",
    "scaled_solar = ss.fit_transform(X_main_solar_num)"
   ]
  },
  {
   "cell_type": "code",
   "execution_count": 171,
   "id": "2ba76cfb",
   "metadata": {
    "ExecuteTime": {
     "end_time": "2023-10-15T07:38:01.718151Z",
     "start_time": "2023-10-15T07:38:01.706133Z"
    }
   },
   "outputs": [],
   "source": [
    "scaled_solar = pd.DataFrame(scaled_solar,columns=X_main_solar_num.columns,index = X_main_solar_num.index)"
   ]
  },
  {
   "cell_type": "code",
   "execution_count": 172,
   "id": "01ee84bd",
   "metadata": {
    "ExecuteTime": {
     "end_time": "2023-10-15T07:38:02.949493Z",
     "start_time": "2023-10-15T07:38:02.925522Z"
    }
   },
   "outputs": [
    {
     "data": {
      "text/html": [
       "<div>\n",
       "<style scoped>\n",
       "    .dataframe tbody tr th:only-of-type {\n",
       "        vertical-align: middle;\n",
       "    }\n",
       "\n",
       "    .dataframe tbody tr th {\n",
       "        vertical-align: top;\n",
       "    }\n",
       "\n",
       "    .dataframe thead th {\n",
       "        text-align: right;\n",
       "    }\n",
       "</style>\n",
       "<table border=\"1\" class=\"dataframe\">\n",
       "  <thead>\n",
       "    <tr style=\"text-align: right;\">\n",
       "      <th></th>\n",
       "      <th>Temperature</th>\n",
       "      <th>Pressure</th>\n",
       "      <th>Humidity</th>\n",
       "      <th>WindDirection(Degrees)</th>\n",
       "      <th>Speed</th>\n",
       "    </tr>\n",
       "  </thead>\n",
       "  <tbody>\n",
       "    <tr>\n",
       "      <th>0</th>\n",
       "      <td>0.666667</td>\n",
       "      <td>0.583333</td>\n",
       "      <td>0.619565</td>\n",
       "      <td>0.081878</td>\n",
       "      <td>0.307798</td>\n",
       "    </tr>\n",
       "    <tr>\n",
       "      <th>1</th>\n",
       "      <td>0.463768</td>\n",
       "      <td>0.666667</td>\n",
       "      <td>0.923913</td>\n",
       "      <td>0.445762</td>\n",
       "      <td>0.692202</td>\n",
       "    </tr>\n",
       "    <tr>\n",
       "      <th>2</th>\n",
       "      <td>0.376812</td>\n",
       "      <td>0.708333</td>\n",
       "      <td>0.489130</td>\n",
       "      <td>0.367484</td>\n",
       "      <td>0.230506</td>\n",
       "    </tr>\n",
       "    <tr>\n",
       "      <th>3</th>\n",
       "      <td>0.666667</td>\n",
       "      <td>0.666667</td>\n",
       "      <td>0.891304</td>\n",
       "      <td>0.118525</td>\n",
       "      <td>0.153899</td>\n",
       "    </tr>\n",
       "    <tr>\n",
       "      <th>4</th>\n",
       "      <td>0.202899</td>\n",
       "      <td>0.000000</td>\n",
       "      <td>1.000000</td>\n",
       "      <td>0.546041</td>\n",
       "      <td>0.153899</td>\n",
       "    </tr>\n",
       "  </tbody>\n",
       "</table>\n",
       "</div>"
      ],
      "text/plain": [
       "   Temperature  Pressure  Humidity  WindDirection(Degrees)     Speed\n",
       "0     0.666667  0.583333  0.619565                0.081878  0.307798\n",
       "1     0.463768  0.666667  0.923913                0.445762  0.692202\n",
       "2     0.376812  0.708333  0.489130                0.367484  0.230506\n",
       "3     0.666667  0.666667  0.891304                0.118525  0.153899\n",
       "4     0.202899  0.000000  1.000000                0.546041  0.153899"
      ]
     },
     "execution_count": 172,
     "metadata": {},
     "output_type": "execute_result"
    }
   ],
   "source": [
    "scaled_solar.head()"
   ]
  },
  {
   "cell_type": "code",
   "execution_count": 173,
   "id": "19f00906",
   "metadata": {
    "ExecuteTime": {
     "end_time": "2023-10-15T07:38:05.036713Z",
     "start_time": "2023-10-15T07:38:05.024727Z"
    }
   },
   "outputs": [
    {
     "data": {
      "text/html": [
       "<div>\n",
       "<style scoped>\n",
       "    .dataframe tbody tr th:only-of-type {\n",
       "        vertical-align: middle;\n",
       "    }\n",
       "\n",
       "    .dataframe tbody tr th {\n",
       "        vertical-align: top;\n",
       "    }\n",
       "\n",
       "    .dataframe thead th {\n",
       "        text-align: right;\n",
       "    }\n",
       "</style>\n",
       "<table border=\"1\" class=\"dataframe\">\n",
       "  <thead>\n",
       "    <tr style=\"text-align: right;\">\n",
       "      <th></th>\n",
       "      <th>Temperature</th>\n",
       "      <th>Pressure</th>\n",
       "      <th>Humidity</th>\n",
       "      <th>WindDirection(Degrees)</th>\n",
       "      <th>Speed</th>\n",
       "    </tr>\n",
       "  </thead>\n",
       "  <tbody>\n",
       "    <tr>\n",
       "      <th>0</th>\n",
       "      <td>0.666667</td>\n",
       "      <td>0.583333</td>\n",
       "      <td>0.619565</td>\n",
       "      <td>0.081878</td>\n",
       "      <td>0.307798</td>\n",
       "    </tr>\n",
       "    <tr>\n",
       "      <th>1</th>\n",
       "      <td>0.463768</td>\n",
       "      <td>0.666667</td>\n",
       "      <td>0.923913</td>\n",
       "      <td>0.445762</td>\n",
       "      <td>0.692202</td>\n",
       "    </tr>\n",
       "    <tr>\n",
       "      <th>2</th>\n",
       "      <td>0.376812</td>\n",
       "      <td>0.708333</td>\n",
       "      <td>0.489130</td>\n",
       "      <td>0.367484</td>\n",
       "      <td>0.230506</td>\n",
       "    </tr>\n",
       "    <tr>\n",
       "      <th>3</th>\n",
       "      <td>0.666667</td>\n",
       "      <td>0.666667</td>\n",
       "      <td>0.891304</td>\n",
       "      <td>0.118525</td>\n",
       "      <td>0.153899</td>\n",
       "    </tr>\n",
       "    <tr>\n",
       "      <th>4</th>\n",
       "      <td>0.202899</td>\n",
       "      <td>0.000000</td>\n",
       "      <td>1.000000</td>\n",
       "      <td>0.546041</td>\n",
       "      <td>0.153899</td>\n",
       "    </tr>\n",
       "  </tbody>\n",
       "</table>\n",
       "</div>"
      ],
      "text/plain": [
       "   Temperature  Pressure  Humidity  WindDirection(Degrees)     Speed\n",
       "0     0.666667  0.583333  0.619565                0.081878  0.307798\n",
       "1     0.463768  0.666667  0.923913                0.445762  0.692202\n",
       "2     0.376812  0.708333  0.489130                0.367484  0.230506\n",
       "3     0.666667  0.666667  0.891304                0.118525  0.153899\n",
       "4     0.202899  0.000000  1.000000                0.546041  0.153899"
      ]
     },
     "execution_count": 173,
     "metadata": {},
     "output_type": "execute_result"
    }
   ],
   "source": [
    "X_main_solar = scaled_solar.copy()\n",
    "X_main_solar.head()"
   ]
  },
  {
   "cell_type": "code",
   "execution_count": 210,
   "id": "9d7fd498",
   "metadata": {
    "ExecuteTime": {
     "end_time": "2023-10-15T08:04:34.977913Z",
     "start_time": "2023-10-15T08:04:34.965929Z"
    }
   },
   "outputs": [],
   "source": [
    "X_train_solar, X_test_solar, y_train_solar,y_test_solar = train_test_split(X_main_solar,y_main_solar,test_size=0.3,random_state=101)"
   ]
  },
  {
   "cell_type": "code",
   "execution_count": 211,
   "id": "19ae657f",
   "metadata": {
    "ExecuteTime": {
     "end_time": "2023-10-15T08:04:35.614011Z",
     "start_time": "2023-10-15T08:04:35.593813Z"
    }
   },
   "outputs": [
    {
     "name": "stdout",
     "output_type": "stream",
     "text": [
      "Shape of X_train is: (18303, 5)\n",
      "Shape of X_test is: (7845, 5)\n",
      "Shape of y_train is: (18303,)\n",
      "Shape of y_test is: (7845,)\n"
     ]
    }
   ],
   "source": [
    "print('Shape of X_train is:', X_train_solar.shape)\n",
    "print('Shape of X_test is:', X_test_solar.shape)\n",
    "print('Shape of y_train is:', y_train_solar.shape)\n",
    "print('Shape of y_test is:', y_test_solar.shape)"
   ]
  },
  {
   "cell_type": "markdown",
   "id": "88739153",
   "metadata": {},
   "source": [
    "#### KNN Regression"
   ]
  },
  {
   "cell_type": "code",
   "execution_count": 247,
   "id": "8fb9aaa9",
   "metadata": {
    "ExecuteTime": {
     "end_time": "2023-10-15T09:56:39.697702Z",
     "start_time": "2023-10-15T09:56:31.466056Z"
    }
   },
   "outputs": [],
   "source": [
    "mape_list_train = []\n",
    "mse_list_train = []\n",
    "mape_list_test = []\n",
    "mse_list_test = []\n",
    "r2_score_train = []\n",
    "r2_score_test = []\n",
    "\n",
    "k_value = list(np.arange(1,30,2))\n",
    "for x in k_value:\n",
    "    knn = KNeighborsRegressor(n_neighbors=x)\n",
    "    model_knn = knn.fit(X_train_solar,y_train_solar)\n",
    "    y_pred_train = model_knn.predict(X_train_solar)\n",
    "    y_pred_test = model_knn.predict(X_test_solar)\n",
    "\n",
    "    mape_train = mean_absolute_percentage_error(y_train_solar,y_pred_train)\n",
    "    mape_test = mean_absolute_percentage_error(y_test_solar,y_pred_test)\n",
    "\n",
    "    mse_train = mean_squared_error(y_train_solar,y_pred_train)\n",
    "    mse_test = mean_squared_error(y_test_solar,y_pred_test)\n",
    "    \n",
    "    r2_train = r2_score(y_train_solar,y_pred_train)\n",
    "    r2_test = r2_score(y_test_solar,y_pred_test)\n",
    "\n",
    "    mape_list_train.append(mape_train)\n",
    "    mse_list_train.append(mse_train)    \n",
    "    mape_list_test.append(mape_test)    \n",
    "    mse_list_test.append(mse_test)\n",
    "    r2_score_train.append(r2_train)    \n",
    "    r2_score_test.append(r2_test)"
   ]
  },
  {
   "cell_type": "code",
   "execution_count": 248,
   "id": "9804ac3c",
   "metadata": {
    "ExecuteTime": {
     "end_time": "2023-10-15T09:56:43.198162Z",
     "start_time": "2023-10-15T09:56:43.044598Z"
    }
   },
   "outputs": [
    {
     "data": {
      "image/png": "[encoded data removed]",
      "text/plain": [
       "<Figure size 720x360 with 1 Axes>"
      ]
     },
     "metadata": {
      "needs_background": "light"
     },
     "output_type": "display_data"
    }
   ],
   "source": [
    "plt.figure(figsize=(10,5))\n",
    "plt.plot(k_value , mape_list_train,marker='o',label = 'MAPE Train')\n",
    "plt.plot(k_value , mape_list_test,marker='o',label = 'MAPE Test')\n",
    "plt.legend()\n",
    "plt.show()"
   ]
  },
  {
   "cell_type": "code",
   "execution_count": 249,
   "id": "9a44a873",
   "metadata": {
    "ExecuteTime": {
     "end_time": "2023-10-15T09:56:45.737103Z",
     "start_time": "2023-10-15T09:56:45.600571Z"
    }
   },
   "outputs": [
    {
     "data": {
      "image/png": "[encoded data removed]",
      "text/plain": [
       "<Figure size 720x360 with 1 Axes>"
      ]
     },
     "metadata": {
      "needs_background": "light"
     },
     "output_type": "display_data"
    }
   ],
   "source": [
    "plt.figure(figsize=(10,5))\n",
    "plt.plot(k_value , mse_list_train,marker='o',label = 'MSE Train')\n",
    "plt.plot(k_value , mse_list_test,marker='o',label = 'MSE Test')\n",
    "plt.legend()\n",
    "plt.show()"
   ]
  },
  {
   "cell_type": "code",
   "execution_count": 250,
   "id": "e3e27b73",
   "metadata": {
    "ExecuteTime": {
     "end_time": "2023-10-15T09:57:21.683957Z",
     "start_time": "2023-10-15T09:57:21.546298Z"
    }
   },
   "outputs": [
    {
     "data": {
      "image/png": "[encoded data removed]",
      "text/plain": [
       "<Figure size 720x360 with 1 Axes>"
      ]
     },
     "metadata": {
      "needs_background": "light"
     },
     "output_type": "display_data"
    }
   ],
   "source": [
    "plt.figure(figsize=(10,5))\n",
    "plt.plot(k_value , r2_score_train,marker='o',label = 'R2 score Train')\n",
    "plt.plot(k_value , r2_score_test,marker='o',label = 'R2 score Test')\n",
    "plt.legend()\n",
    "plt.show()"
   ]
  },
  {
   "cell_type": "raw",
   "id": "8e1e8ace",
   "metadata": {},
   "source": [
    "From above graphs, it can be said that the best performance of model can be obtained at the k value of 15, after which there is not a significant increase in the model performance"
   ]
  },
  {
   "cell_type": "code",
   "execution_count": 251,
   "id": "6039256a",
   "metadata": {
    "ExecuteTime": {
     "end_time": "2023-10-15T09:59:00.733174Z",
     "start_time": "2023-10-15T09:59:00.724197Z"
    }
   },
   "outputs": [
    {
     "name": "stdout",
     "output_type": "stream",
     "text": [
      "MAPE for train set for k =15 is: 12.964421705748984\n",
      "MAPE for test set for k =15 is: 13.876841390521053\n",
      "MSE for train set for k =15 is: 22845.509319480498\n",
      "MSE for test set for k =15 is: 27431.075586350988\n",
      "R2 for train set for k =15 is: 0.7542743752513892\n",
      "R2 for test set for k =15 is: 0.6955023382789902\n"
     ]
    }
   ],
   "source": [
    "print('MAPE for train set for k =15 is:',mape_list_train[8])\n",
    "print('MAPE for test set for k =15 is:',mape_list_test[8])\n",
    "print('MSE for train set for k =15 is:',mse_list_train[8])\n",
    "print('MSE for test set for k =15 is:',mse_list_test[8])\n",
    "print('R2 for train set for k =15 is:',r2_score_train[8])\n",
    "print('R2 for test set for k =15 is:',r2_score_test[8])"
   ]
  },
  {
   "cell_type": "markdown",
   "id": "f1a9fcfb",
   "metadata": {},
   "source": [
    "#### Linear Regression"
   ]
  },
  {
   "cell_type": "code",
   "execution_count": 253,
   "id": "82456aa8",
   "metadata": {
    "ExecuteTime": {
     "end_time": "2023-10-15T10:00:36.523656Z",
     "start_time": "2023-10-15T10:00:36.503728Z"
    }
   },
   "outputs": [],
   "source": [
    "lin = LinearRegression()\n",
    "model_lin = lin.fit(X_train_solar,y_train_solar)\n",
    "y_pred_train = model_lin.predict(X_train_solar)\n",
    "y_pred_test = model_lin.predict(X_test_solar)"
   ]
  },
  {
   "cell_type": "code",
   "execution_count": 254,
   "id": "aefcb376",
   "metadata": {
    "ExecuteTime": {
     "end_time": "2023-10-15T10:00:36.539642Z",
     "start_time": "2023-10-15T10:00:36.526646Z"
    }
   },
   "outputs": [],
   "source": [
    "mape_train = mean_absolute_percentage_error(y_train_solar,y_pred_train)\n",
    "mape_test = mean_absolute_percentage_error(y_test_solar,y_pred_test)\n",
    "\n",
    "mse_train = mean_squared_error(y_train_solar,y_pred_train)\n",
    "mse_test = mean_squared_error(y_test_solar,y_pred_test)\n",
    "\n",
    "r2_score_train = r2_score(y_train_solar,y_pred_train)\n",
    "r2_score_test = r2_score(y_test_solar,y_pred_test)"
   ]
  },
  {
   "cell_type": "code",
   "execution_count": 255,
   "id": "528de4bf",
   "metadata": {
    "ExecuteTime": {
     "end_time": "2023-10-15T10:00:36.555598Z",
     "start_time": "2023-10-15T10:00:36.540610Z"
    }
   },
   "outputs": [
    {
     "name": "stdout",
     "output_type": "stream",
     "text": [
      "MAPE of train set is  42.180126441992186\n",
      "MAPE of test set is  43.503637625696015\n",
      "--------------------\n",
      "MSE of train set is  39300.55577835131\n",
      "MSE of test set is  38740.18320395528\n",
      "--------------------\n",
      "R2 of train set is  0.5772843806389429\n",
      "R2 of test set is  0.5699659984854016\n"
     ]
    }
   ],
   "source": [
    "print('MAPE of train set is ',mape_train)\n",
    "print('MAPE of test set is ',mape_test)\n",
    "print('-'*20)\n",
    "print('MSE of train set is ',mse_train)\n",
    "print('MSE of test set is ',mse_test)\n",
    "print('-'*20)\n",
    "print('R2 of train set is ',r2_score_train)\n",
    "print('R2 of test set is ',r2_score_test)"
   ]
  },
  {
   "cell_type": "code",
   "execution_count": 257,
   "id": "f003e3aa",
   "metadata": {
    "ExecuteTime": {
     "end_time": "2023-10-15T10:02:10.627646Z",
     "start_time": "2023-10-15T10:02:10.561202Z"
    }
   },
   "outputs": [
    {
     "name": "stderr",
     "output_type": "stream",
     "text": [
      "C:\\MyDrive\\Term1\\lib\\site-packages\\statsmodels\\tsa\\tsatools.py:142: FutureWarning: In a future version of pandas all arguments of concat except for the argument 'objs' will be keyword-only\n",
      "  x = pd.concat(x[::order], 1)\n"
     ]
    }
   ],
   "source": [
    "X_train_solar_cons = sm.add_constant(X_train_solar)\n",
    "sm_model = sm.OLS(y_train_solar,X_train_solar_cons)\n",
    "results = sm_model.fit()"
   ]
  },
  {
   "cell_type": "code",
   "execution_count": 258,
   "id": "cacc784f",
   "metadata": {
    "ExecuteTime": {
     "end_time": "2023-10-15T10:02:18.479978Z",
     "start_time": "2023-10-15T10:02:18.435096Z"
    }
   },
   "outputs": [
    {
     "data": {
      "text/html": [
       "<table class=\"simpletable\">\n",
       "<caption>OLS Regression Results</caption>\n",
       "<tr>\n",
       "  <th>Dep. Variable:</th>        <td>Radiation</td>    <th>  R-squared:         </th>  <td>   0.577</td>  \n",
       "</tr>\n",
       "<tr>\n",
       "  <th>Model:</th>                   <td>OLS</td>       <th>  Adj. R-squared:    </th>  <td>   0.577</td>  \n",
       "</tr>\n",
       "<tr>\n",
       "  <th>Method:</th>             <td>Least Squares</td>  <th>  F-statistic:       </th>  <td>   4997.</td>  \n",
       "</tr>\n",
       "<tr>\n",
       "  <th>Date:</th>             <td>Sun, 15 Oct 2023</td> <th>  Prob (F-statistic):</th>   <td>  0.00</td>   \n",
       "</tr>\n",
       "<tr>\n",
       "  <th>Time:</th>                 <td>15:32:18</td>     <th>  Log-Likelihood:    </th> <td>-1.2278e+05</td>\n",
       "</tr>\n",
       "<tr>\n",
       "  <th>No. Observations:</th>      <td> 18303</td>      <th>  AIC:               </th>  <td>2.456e+05</td> \n",
       "</tr>\n",
       "<tr>\n",
       "  <th>Df Residuals:</th>          <td> 18297</td>      <th>  BIC:               </th>  <td>2.456e+05</td> \n",
       "</tr>\n",
       "<tr>\n",
       "  <th>Df Model:</th>              <td>     5</td>      <th>                     </th>      <td> </td>     \n",
       "</tr>\n",
       "<tr>\n",
       "  <th>Covariance Type:</th>      <td>nonrobust</td>    <th>                     </th>      <td> </td>     \n",
       "</tr>\n",
       "</table>\n",
       "<table class=\"simpletable\">\n",
       "<tr>\n",
       "             <td></td>               <th>coef</th>     <th>std err</th>      <th>t</th>      <th>P>|t|</th>  <th>[0.025</th>    <th>0.975]</th>  \n",
       "</tr>\n",
       "<tr>\n",
       "  <th>const</th>                  <td> -342.4248</td> <td>    9.779</td> <td>  -35.016</td> <td> 0.000</td> <td> -361.593</td> <td> -323.257</td>\n",
       "</tr>\n",
       "<tr>\n",
       "  <th>Temperature</th>            <td> 1286.2716</td> <td>    9.082</td> <td>  141.625</td> <td> 0.000</td> <td> 1268.470</td> <td> 1304.074</td>\n",
       "</tr>\n",
       "<tr>\n",
       "  <th>Pressure</th>               <td> -200.4771</td> <td>    7.869</td> <td>  -25.475</td> <td> 0.000</td> <td> -215.902</td> <td> -185.052</td>\n",
       "</tr>\n",
       "<tr>\n",
       "  <th>Humidity</th>               <td>  -31.5083</td> <td>    5.695</td> <td>   -5.533</td> <td> 0.000</td> <td>  -42.671</td> <td>  -20.346</td>\n",
       "</tr>\n",
       "<tr>\n",
       "  <th>WindDirection(Degrees)</th> <td>  -83.5817</td> <td>    6.224</td> <td>  -13.428</td> <td> 0.000</td> <td>  -95.782</td> <td>  -71.381</td>\n",
       "</tr>\n",
       "<tr>\n",
       "  <th>Speed</th>                  <td>  150.1115</td> <td>    6.984</td> <td>   21.494</td> <td> 0.000</td> <td>  136.422</td> <td>  163.801</td>\n",
       "</tr>\n",
       "</table>\n",
       "<table class=\"simpletable\">\n",
       "<tr>\n",
       "  <th>Omnibus:</th>       <td>996.815</td> <th>  Durbin-Watson:     </th> <td>   1.991</td> \n",
       "</tr>\n",
       "<tr>\n",
       "  <th>Prob(Omnibus):</th> <td> 0.000</td>  <th>  Jarque-Bera (JB):  </th> <td>1231.608</td> \n",
       "</tr>\n",
       "<tr>\n",
       "  <th>Skew:</th>          <td> 0.554</td>  <th>  Prob(JB):          </th> <td>3.63e-268</td>\n",
       "</tr>\n",
       "<tr>\n",
       "  <th>Kurtosis:</th>      <td> 3.623</td>  <th>  Cond. No.          </th> <td>    13.7</td> \n",
       "</tr>\n",
       "</table><br/><br/>Notes:<br/>[1] Standard Errors assume that the covariance matrix of the errors is correctly specified."
      ],
      "text/plain": [
       "<class 'statsmodels.iolib.summary.Summary'>\n",
       "\"\"\"\n",
       "                            OLS Regression Results                            \n",
       "==============================================================================\n",
       "Dep. Variable:              Radiation   R-squared:                       0.577\n",
       "Model:                            OLS   Adj. R-squared:                  0.577\n",
       "Method:                 Least Squares   F-statistic:                     4997.\n",
       "Date:                Sun, 15 Oct 2023   Prob (F-statistic):               0.00\n",
       "Time:                        15:32:18   Log-Likelihood:            -1.2278e+05\n",
       "No. Observations:               18303   AIC:                         2.456e+05\n",
       "Df Residuals:                   18297   BIC:                         2.456e+05\n",
       "Df Model:                           5                                         \n",
       "Covariance Type:            nonrobust                                         \n",
       "==========================================================================================\n",
       "                             coef    std err          t      P>|t|      [0.025      0.975]\n",
       "------------------------------------------------------------------------------------------\n",
       "const                   -342.4248      9.779    -35.016      0.000    -361.593    -323.257\n",
       "Temperature             1286.2716      9.082    141.625      0.000    1268.470    1304.074\n",
       "Pressure                -200.4771      7.869    -25.475      0.000    -215.902    -185.052\n",
       "Humidity                 -31.5083      5.695     -5.533      0.000     -42.671     -20.346\n",
       "WindDirection(Degrees)   -83.5817      6.224    -13.428      0.000     -95.782     -71.381\n",
       "Speed                    150.1115      6.984     21.494      0.000     136.422     163.801\n",
       "==============================================================================\n",
       "Omnibus:                      996.815   Durbin-Watson:                   1.991\n",
       "Prob(Omnibus):                  0.000   Jarque-Bera (JB):             1231.608\n",
       "Skew:                           0.554   Prob(JB):                    3.63e-268\n",
       "Kurtosis:                       3.623   Cond. No.                         13.7\n",
       "==============================================================================\n",
       "\n",
       "Notes:\n",
       "[1] Standard Errors assume that the covariance matrix of the errors is correctly specified.\n",
       "\"\"\""
      ]
     },
     "execution_count": 258,
     "metadata": {},
     "output_type": "execute_result"
    }
   ],
   "source": [
    "results.summary()"
   ]
  },
  {
   "cell_type": "raw",
   "id": "462ba386",
   "metadata": {},
   "source": [
    "<> As the condition number is less than 100, features are not correlated with each other.\n",
    "<> As the Durbin-Watson coefficient is really close to 2, there is no auto correlation between residuals.\n",
    "<> Probability of F-statisic is zero,implies that values of each of the coefficients is not zero. We can say that the null hypothesis statement that atleast one independent variable has no affect on the label variable can be rejected.\n",
    "<> R-squared value is 0.577 which means that 57.7% of variance of independent variables is captured by the model.\n",
    "<> Probability of Jarques Bera statistic is almost zero implies that the null hypothesis which states that the residuals are normal can be rejected."
   ]
  },
  {
   "cell_type": "raw",
   "id": "ef40cf66",
   "metadata": {},
   "source": [
    "Based on above observations and by looking at the metrics r2, mape and mse, it can be inferred that performance of KNN Regressor is better than Linear Regression."
   ]
  }
 ],
 "metadata": {
  "kernelspec": {
   "display_name": "Python 3 (ipykernel)",
   "language": "python",
   "name": "python3"
  },
  "language_info": {
   "codemirror_mode": {
    "name": "ipython",
    "version": 3
   },
   "file_extension": ".py",
   "mimetype": "text/x-python",
   "name": "python",
   "nbconvert_exporter": "python",
   "pygments_lexer": "ipython3",
   "version": "3.9.7"
  }
 },
 "nbformat": 4,
 "nbformat_minor": 5
}
